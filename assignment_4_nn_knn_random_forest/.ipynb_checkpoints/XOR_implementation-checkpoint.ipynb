{
 "cells": [
  {
   "cell_type": "code",
   "execution_count": 1,
   "metadata": {},
   "outputs": [
    {
     "data": {
      "text/html": [
       "<style>.container { width:100% !important; }</style>"
      ],
      "text/plain": [
       "<IPython.core.display.HTML object>"
      ]
     },
     "metadata": {},
     "output_type": "display_data"
    }
   ],
   "source": [
    "from IPython.core.display import display, HTML\n",
    "display(HTML(\"<style>.container { width:100% !important; }</style>\"))"
   ]
  },
  {
   "cell_type": "code",
   "execution_count": 6,
   "metadata": {},
   "outputs": [
    {
     "name": "stdout",
     "output_type": "stream",
     "text": [
      "[[0.94254598]\n",
      " [0.31691356]]\n",
      "[[0.65242819]\n",
      " [0.68582976]\n",
      " [0.67202866]\n",
      " [0.7031925 ]]\n"
     ]
    }
   ],
   "source": [
    "import numpy as np\n",
    "\n",
    "def sigmoid(x):\n",
    "    return 1.0/(1 + np.exp(-x))\n",
    "\n",
    "def sigmoid_drivative(x):\n",
    "    return x * (1.0 - x)\n",
    "\n",
    "class NeuralNet:\n",
    "    def __init__(self, x, y):\n",
    "        self.input = x\n",
    "        self.weights1 = np.random.rand(self.input.shape[1],2) #self.input.shape[1] er antall kolonner = FEATURES!\n",
    "        self.weights2 = np.random.rand(2,1)\n",
    "        self.y = y\n",
    "        self.output = np.zeros(y.shape)\n",
    "        \n",
    "    def feedforward(self,input_x):\n",
    "        self.layer1 = sigmoid(np.dot(input_x, self.weights1))\n",
    "        self.output = sigmoid(np.dot(self.layer1,self.weights2))\n",
    "        \n",
    "    def backprop(self):\n",
    "        # Chain rule to find the derivative of the loss function with respect to weight matrix weights1 and weights2\n",
    "        d_weights2 = np.dot(self.layer1.T, (2*(self.y - self.output) * sigmoid_derivative(self.output)))\n",
    "        d_weights1 = np.dot(self.input.T,  (np.dot(2*(self.y - self.output) * sigmoid_derivative(self.output), self.weights2.T) * sigmoid_derivative(self.layer1)))\n",
    "        \n",
    "        # Updating the weights:\n",
    "        self.weights1 +=d_weights1\n",
    "        self.weights2 += d_weights2\n",
    "        \n",
    "X = np.array([[0,0],\n",
    "             [0,1],\n",
    "             [1,0],\n",
    "             [1,1]])\n",
    "\n",
    "y = np.array([[0],[1],[1],[0]])\n",
    "\n",
    "n1 = NeuralNet(X,y)\n",
    "\n",
    "for i in range(10000):\n",
    "    n1.feedforward()\n",
    "    n1.backprop\n",
    "    \n",
    "print(n1.output)\n",
    "n1.feedforward\n",
    "        \n",
    "        \n"
   ]
  }
 ],
 "metadata": {
  "kernelspec": {
   "display_name": "Python 3",
   "language": "python",
   "name": "python3"
  },
  "language_info": {
   "codemirror_mode": {
    "name": "ipython",
    "version": 3
   },
   "file_extension": ".py",
   "mimetype": "text/x-python",
   "name": "python",
   "nbconvert_exporter": "python",
   "pygments_lexer": "ipython3",
   "version": "3.7.2"
  }
 },
 "nbformat": 4,
 "nbformat_minor": 2
}
