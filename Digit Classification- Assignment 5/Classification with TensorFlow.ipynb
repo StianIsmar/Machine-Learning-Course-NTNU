{
 "cells": [
  {
   "cell_type": "code",
   "execution_count": 66,
   "metadata": {},
   "outputs": [],
   "source": [
    "import tensorflow as tf\n",
    "import gzip\n",
    "import pickle\n",
    "\n",
    "inputPickleGZIP = gzip.open('./mnist.pkl.gz','rb');\n",
    "inputData = pickle.load(inputPickleGZIP, encoding=\"bytes\")\n",
    "\n",
    "(train_X, train_y), (test_X, test_y)= inputData\n",
    "train_X\n",
    "\n"
   ]
  }
 ],
 "metadata": {
  "kernelspec": {
   "display_name": "Python 3",
   "language": "python",
   "name": "python3"
  },
  "language_info": {
   "codemirror_mode": {
    "name": "ipython",
    "version": 3
   },
   "file_extension": ".py",
   "mimetype": "text/x-python",
   "name": "python",
   "nbconvert_exporter": "python",
   "pygments_lexer": "ipython3",
   "version": "3.7.2"
  }
 },
 "nbformat": 4,
 "nbformat_minor": 2
}
