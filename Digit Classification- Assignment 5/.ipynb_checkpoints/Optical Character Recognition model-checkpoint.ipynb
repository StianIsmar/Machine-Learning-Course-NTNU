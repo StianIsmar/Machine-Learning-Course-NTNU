{
 "cells": [
  {
   "cell_type": "code",
   "execution_count": 89,
   "metadata": {},
   "outputs": [],
   "source": [
    "import pandas as pd\n",
    "import numpy as np\n",
    "import matplotlib.pyplot as plt\n",
    "import imageio"
   ]
  },
  {
   "cell_type": "code",
   "execution_count": 84,
   "metadata": {},
   "outputs": [],
   "source": [
    "letterDict={\n",
    "  \"a\": 0,\"b\": 1,\"c\": 2,\"d\": 3,\"e\": 4,\"f\": 5,\"g\": 6,\"h\": 7,\"i\": 8,\n",
    "    \"j\": 9,\"k\": 10,\"l\": 11,\"m\": 12,\"n\": 13,\"o\": 14,\"p\": 15,\"q\": 16,\"r\": 17,\n",
    "    \"s\": 18,\"t\": 19,\"u\": 20,\"v\": 21,\"w\": 22,\"x\": 23,\"y\": 24,\"z\": 25\n",
    "}\n",
    "\n",
    "def readPictures(df_complete, directory,letter_value):\n",
    "    im = imageio.imread(directory)\n",
    "    im.shape\n",
    "    im=np.reshape(im,400)\n",
    "    df = pd.DataFrame(data=im).T\n",
    "    y = np.repeat(0,400)\n",
    "    df['Letter'] = letter_value\n",
    "    \n",
    "    return df_complete.append(df)\n"
   ]
  },
  {
   "cell_type": "code",
   "execution_count": 62,
   "metadata": {},
   "outputs": [],
   "source": [
    "\n",
    "y = np.repeat(0,400)\n"
   ]
  },
  {
   "cell_type": "code",
   "execution_count": null,
   "metadata": {},
   "outputs": [],
   "source": [
    "import os\n",
    "all_imgs = pd.DataFrame()\n",
    "\n",
    "def read_all_images(upper_directory,all_imgs):\n",
    "    for subdir, dirs, files in os.walk(upper_directory):\n",
    "        for file in files:\n",
    "            #print os.path.join(subdir, file)\n",
    "            filepath = subdir + os.sep + file\n",
    "            if filepath.endswith(\".jpg\"):\n",
    "                # print (filepath)\n",
    "                x = filepath.split(\"/\")\n",
    "                letter = (x[-1][0])\n",
    "                letter_val = letterDict.get(letter)\n",
    "\n",
    "                all_imgs = readPictures(all_imgs,filepath,letter_val)\n",
    "    return all_imgs\n",
    "\n",
    "            \n",
    "alldata = read_all_images(\"./dataset3\",all_imgs)\n",
    "alldata"
   ]
  },
  {
   "cell_type": "code",
   "execution_count": 58,
   "metadata": {},
   "outputs": [
    {
     "data": {
      "text/html": [
       "<div>\n",
       "<style scoped>\n",
       "    .dataframe tbody tr th:only-of-type {\n",
       "        vertical-align: middle;\n",
       "    }\n",
       "\n",
       "    .dataframe tbody tr th {\n",
       "        vertical-align: top;\n",
       "    }\n",
       "\n",
       "    .dataframe thead th {\n",
       "        text-align: right;\n",
       "    }\n",
       "</style>\n",
       "<table border=\"1\" class=\"dataframe\">\n",
       "  <thead>\n",
       "    <tr style=\"text-align: right;\">\n",
       "      <th></th>\n",
       "      <th>0</th>\n",
       "      <th>1</th>\n",
       "      <th>2</th>\n",
       "    </tr>\n",
       "  </thead>\n",
       "  <tbody>\n",
       "    <tr>\n",
       "      <th>0</th>\n",
       "      <td>1</td>\n",
       "      <td>2</td>\n",
       "      <td>3</td>\n",
       "    </tr>\n",
       "  </tbody>\n",
       "</table>\n",
       "</div>"
      ],
      "text/plain": [
       "   0  1  2\n",
       "0  1  2  3"
      ]
     },
     "execution_count": 58,
     "metadata": {},
     "output_type": "execute_result"
    }
   ],
   "source": [
    "MyEmptydf = pd.DataFrame()\n",
    "nn1= pd.DataFrame([1,2,3]).T\n",
    "\n",
    "MyEmptydf.append(nn1)"
   ]
  },
  {
   "cell_type": "code",
   "execution_count": null,
   "metadata": {},
   "outputs": [],
   "source": []
  },
  {
   "cell_type": "code",
   "execution_count": null,
   "metadata": {},
   "outputs": [],
   "source": []
  }
 ],
 "metadata": {
  "kernelspec": {
   "display_name": "Python 3",
   "language": "python",
   "name": "python3"
  },
  "language_info": {
   "codemirror_mode": {
    "name": "ipython",
    "version": 3
   },
   "file_extension": ".py",
   "mimetype": "text/x-python",
   "name": "python",
   "nbconvert_exporter": "python",
   "pygments_lexer": "ipython3",
   "version": "3.7.2"
  }
 },
 "nbformat": 4,
 "nbformat_minor": 2
}
