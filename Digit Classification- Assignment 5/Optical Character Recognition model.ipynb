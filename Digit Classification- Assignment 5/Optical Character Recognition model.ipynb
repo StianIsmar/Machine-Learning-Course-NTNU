{
 "cells": [
  {
   "cell_type": "code",
   "execution_count": 916,
   "metadata": {},
   "outputs": [],
   "source": [
    "import os\n",
    "import imageio\n",
    "import matplotlib\n",
    "import numpy as np\n",
    "import pandas as pd\n",
    "import matplotlib.pyplot as plt\n",
    "from scipy import ndimage, misc\n",
    "import visvis as vv\n",
    "\n",
    "from sklearn.model_selection import train_test_split\n",
    "from sklearn.neighbors import KNeighborsClassifier\n",
    "from sklearn.metrics import accuracy_score\n",
    "from sklearn.ensemble import RandomForestClassifier\n",
    "\n"
   ]
  },
  {
   "cell_type": "code",
   "execution_count": 917,
   "metadata": {},
   "outputs": [],
   "source": [
    "letterDict={\n",
    "  \"a\": 0,\"b\": 1,\"c\": 2,\"d\": 3,\"e\": 4,\"f\": 5,\"g\": 6,\"h\": 7,\"i\": 8,\n",
    "    \"j\": 9,\"k\": 10,\"l\": 11,\"m\": 12,\"n\": 13,\"o\": 14,\"p\": 15,\"q\": 16,\"r\": 17,\n",
    "    \"s\": 18,\"t\": 19,\"u\": 20,\"v\": 21,\"w\": 22,\"x\": 23,\"y\": 24,\"z\": 25}\n",
    "\n",
    "numberDict={\n",
    "    0:\"A\", 1:\"B\", 2:\"C\", 3:\"D\", 4:\"E\", 5:\"F\", 6:\"G\", 7:\"H\", 8:\"I\",\n",
    "    9:\"J\", 10:\"K\", 11:\"L\", 12:\"M\", 13:\"N\", 14:\"O\", 15:\"P\", 16:\"Q\", 17:\"R\",\n",
    "    18:\"S\", 19:\"T\", 20:\"U\", 21:\"V\", 22:\"W\", 23:\"X\", 24:\"Y\", 25:\"Z\"}\n",
    "\n",
    "\n",
    "def readPicture(df_complete, directory,letter_value):\n",
    "    im = imageio.imread(directory)\n",
    "    im.shape\n",
    "    print(\"Letter value: \", directory, end=\"\\r\")\n",
    "\n",
    "    im=np.reshape(im,400)\n",
    "    df = pd.DataFrame(data=im).T\n",
    "    y = np.repeat(0,400)\n",
    "    df['Letter'] = letter_value\n",
    "    \n",
    "    return df_complete.append(df, ignore_index=True)\n",
    "\n",
    "#Method ment for adding augmented pictures to a dataset\n",
    "def addPictureToDataset(dataset, picture, letter_value):\n",
    "    picture = np.reshape(picture,400)\n",
    "    df = pd.DataFrame(data=picture).T\n",
    "    df['Letter'] = letter_value\n",
    "    return dataset.append(df, ignore_index=True)\n",
    "\n"
   ]
  },
  {
   "cell_type": "markdown",
   "metadata": {},
   "source": [
    "### Loading all images and augmenting. Loading into dataframes"
   ]
  },
  {
   "cell_type": "code",
   "execution_count": 1098,
   "metadata": {
    "scrolled": true
   },
   "outputs": [
    {
     "name": "stdout",
     "output_type": "stream",
     "text": [
      "imager value:  ./dataset3/chars74k-lite/z/z_9.jpggg4445.jpgt3/chars74k-lite/a/a_284.jpg./dataset3/chars74k-lite/a/a_360.jpg ./dataset3/chars74k-lite/a/a_445.jpg ./dataset3/chars74k-lite/a/a_507.jpg ./dataset3/chars74k-lite/b/b_87.jpg ./dataset3/chars74k-lite/c/c_144.jpg ./dataset3/chars74k-lite/d/d_96.jpg ./dataset3/chars74k-lite/e/e_349.jpg ./dataset3/chars74k-lite/e/e_469.jpg ./dataset3/chars74k-lite/e/e_492.jpg ./dataset3/chars74k-lite/f/f_62.jpg ./dataset3/chars74k-lite/g/g_106.jpg ./dataset3/chars74k-lite/g/g_172.jpg ./dataset3/chars74k-lite/i/i_142.jpg./dataset3/chars74k-lite/j/j_107.jpg ./dataset3/chars74k-lite/j/j_15.jpg ./dataset3/chars74k-lite/j/j_9.jpg ./dataset3/chars74k-lite/k/k_62.jpg ./dataset3/chars74k-lite/l/l_214.jpg ./dataset3/chars74k-lite/m/m_103.jpg ./dataset3/chars74k-lite/m/m_55.jpg ./dataset3/chars74k-lite/n/n_331.jpg ./dataset3/chars74k-lite/n/n_461.jpg./dataset3/chars74k-lite/n/n_466.jpg ./dataset3/chars74k-lite/n/n_8.jpg./dataset3/chars74k-lite/o/o_302.jpg ./dataset3/chars74k-lite/o/o_368.jpg ./dataset3/chars74k-lite/o/o_474.jpg ./dataset3/chars74k-lite/p/p_64.jpg./dataset3/chars74k-lite/s/s_326.jpg ./dataset3/chars74k-lite/s/s_376.jpg ./dataset3/chars74k-lite/t/t_23.jpg ./dataset3/chars74k-lite/t/t_339.jpg./dataset3/chars74k-lite/v/v_113.jpg ./dataset3/chars74k-lite/w/w_25.jpg\n",
      "number_of_images 7118\n"
     ]
    }
   ],
   "source": [
    "def read_all_images(upper_directory):\n",
    "    number_of_images = 0\n",
    "    original_imgs = pd.DataFrame()\n",
    "    aug20 = pd.DataFrame()\n",
    "    aug90 = pd.DataFrame()\n",
    "    aug270 = pd.DataFrame()\n",
    "    aug320 = pd.DataFrame()\n",
    "    for subdir, dirs, files in os.walk(upper_directory):\n",
    "        for file in files:\n",
    "            number_of_images+=1\n",
    "            #print os.path.join(subdir, file)\n",
    "            filepath = subdir + os.sep + file\n",
    "            if filepath.endswith(\".jpg\"):\n",
    "                # print(filepath)\n",
    "                # Rotate every image that is being loaded:\n",
    "            \n",
    "                x = filepath.split(\"/\")\n",
    "                rotate20 = rotate_image(filepath,x[-1],20)\n",
    "                rotate90 = rotate_image(filepath,x[-1],90)\n",
    "                rotate270 = rotate_image(filepath,x[-1],270)\n",
    "                rotate320 = rotate_image(filepath,x[-1],320)\n",
    "                \n",
    "                # zoomed:\n",
    "                zoomed = zoom_images_and_save(filepath,x[-1])\n",
    "            \n",
    "                # The label for the data:\n",
    "                letter = (x[-1][0])\n",
    "                letter_val = letterDict.get(letter)\n",
    "                original_imgs = readPicture(original_imgs,filepath,letter_val)\n",
    "                aug20 = addPictureToDataset(aug20, rotate20, letter_val)\n",
    "                aug90 = addPictureToDataset(aug90, rotate90, letter_val)\n",
    "                aug270 = addPictureToDataset(aug270, rotate270, letter_val)\n",
    "                aug320 = addPictureToDataset(aug320, rotate320, letter_val)\n",
    "\n",
    "                # zoomed:\n",
    "                aug320 = addPictureToDataset(aug320, zoomed, letter_val)\n",
    "                \n",
    "    print(\"image\")\n",
    "    # vv.imshow(\"./dataset3/chars74k-lite/augmented/rotated_neg_a102.jpg\")\n",
    "    print(\"number_of_images\", number_of_images)\n",
    "    return original_imgs, aug20, aug90, aug270, aug320\n",
    "\n",
    "\n",
    "#Rotates an image, stores it in a folder and returns the rotated image\n",
    "def rotate_image(image_path,ending,deg):\n",
    "    out_path = \"./dataset3/augmented/\"\n",
    "    image_to_rotate = plt.imread(image_path)\n",
    "\n",
    "    # Rotating the image:\n",
    "    rotated_positive = ndimage.rotate(image_to_rotate, deg, reshape=False)\n",
    "   \n",
    "    fullpath = os.path.join(out_path, 'rotated_'+ str(deg) + '_' + ending)\n",
    "\n",
    "    imageio.imwrite(fullpath, rotated_positive)\n",
    "    return rotated_positive\n",
    "                   \n",
    "# Unaugmented data, no feature selection:            \n",
    "original_raw, aug20, aug90, aug270, aug320 = read_all_images(\"./dataset3/chars74k-lite\")"
   ]
  },
  {
   "cell_type": "markdown",
   "metadata": {},
   "source": [
    "### Data augmentation Zoom (Added to the dataset in read_all_images()):"
   ]
  },
  {
   "cell_type": "code",
   "execution_count": 919,
   "metadata": {},
   "outputs": [],
   "source": [
    "\n",
    "def cv2_clipped_zoom(img, zoom_factor):\n",
    "    \"\"\"\n",
    "    Center zoom in/out of the given image and returning an enlarged/shrinked view of \n",
    "    the image without changing dimensions\n",
    "    Args:\n",
    "        img : Image array\n",
    "        zoom_factor : amount of zoom as a ratio (0 to Inf)\n",
    "    \"\"\"\n",
    "    height, width = img.shape[:2] # It's also the final desired shape\n",
    "    new_height, new_width = int(height * zoom_factor), int(width * zoom_factor)\n",
    "\n",
    "    ### Crop only the part that will remain in the result (more efficient)\n",
    "    # Centered bbox of the final desired size in resized (larger/smaller) image coordinates\n",
    "    y1, x1 = max(0, new_height - height) // 2, max(0, new_width - width) // 2\n",
    "    y2, x2 = y1 + height, x1 + width\n",
    "    bbox = np.array([y1,x1,y2,x2])\n",
    "    # Map back to original image coordinates\n",
    "    bbox = (bbox / zoom_factor).astype(np.int)\n",
    "    y1, x1, y2, x2 = bbox\n",
    "    cropped_img = img[y1:y2, x1:x2]\n",
    "\n",
    "    # Handle padding when downscaling\n",
    "    resize_height, resize_width = min(new_height, height), min(new_width, width)\n",
    "    pad_height1, pad_width1 = (height - resize_height) // 2, (width - resize_width) //2\n",
    "    pad_height2, pad_width2 = (height - resize_height) - pad_height1, (width - resize_width) - pad_width1\n",
    "    pad_spec = [(pad_height1, pad_height2), (pad_width1, pad_width2)] + [(0,0)] * (img.ndim - 2)\n",
    "\n",
    "    result = cv2.resize(cropped_img, (resize_width, resize_height))\n",
    "    result = np.pad(result, pad_spec, mode='constant')\n",
    "    assert result.shape[0] == height and result.shape[1] == width\n",
    "    return result\n",
    "# print(original_raw[0].tolist())\n",
    "\n",
    "#\"./dataset3/chars74k-lite/a/a_4.jpg\"\n",
    "def zoom_images_and_save(path,ending):\n",
    "    #img = imageio.imread(path)\n",
    "    #plt.imshow(img)\n",
    "    #plt.show()\n",
    "    \n",
    "    img = imageio.imread(path)\n",
    "    zoomed = cv2_clipped_zoom(img, 0.5)\n",
    "    # plt.imshow(zoomed)\n",
    "\n",
    "    out_path = \"./dataset3/augmented/\"\n",
    "    # zoomed = plt.imread(image_path)\n",
    "\n",
    "   \n",
    "    fullpath = os.path.join(out_path, 'zoomed'+'_' + ending)\n",
    "\n",
    "    imageio.imwrite(fullpath, zoomed)\n",
    "    return zoomed"
   ]
  },
  {
   "cell_type": "code",
   "execution_count": 1135,
   "metadata": {
    "scrolled": true
   },
   "outputs": [],
   "source": [
    "#Methood merges dataset1 with dataset2\n",
    "def mergeData(dataset1, dataset2):\n",
    "    return dataset1.append(dataset2, ignore_index=True)\n",
    "\n",
    "mergedData = mergeData(original_raw, aug20)\n",
    "mergedData = mergeData(mergedData, aug90)\n",
    "mergedData = mergeData(mergedData, aug270)\n",
    "mergedData = mergeData(mergedData, aug320)"
   ]
  },
  {
   "cell_type": "code",
   "execution_count": 921,
   "metadata": {},
   "outputs": [],
   "source": [
    "# splitting function:\n",
    "def get_train_test_set(data):\n",
    "    train_set = pd.DataFrame()\n",
    "    test_set = pd.DataFrame()\n",
    "    \n",
    "    for i in range(26):\n",
    "        train, test = train_test_split(data.loc[data['Letter']==i], \n",
    "                                       test_size=0.2, shuffle=True)\n",
    "        \n",
    "        train_set = train_set.append([train], ignore_index=True)\n",
    "        test_set = test_set.append([test], ignore_index=True)\n",
    "    return train_set, test_set"
   ]
  },
  {
   "cell_type": "markdown",
   "metadata": {},
   "source": [
    "## Running models on the data:\n",
    "### kNN (On Raw, merged, feature-treated data)\n"
   ]
  },
  {
   "cell_type": "code",
   "execution_count": 922,
   "metadata": {},
   "outputs": [],
   "source": [
    "#### Running models on the raw data:\n",
    "\n",
    "def calc_predictions(classifier, train):\n",
    "    y_pred = []\n",
    "    n = train.shape[0]\n",
    "    counter = 0\n",
    "    clf = classifier.fit(train.drop(labels='Letter', axis = 1), train.iloc[:,-1])\n",
    "    for row in train.drop(labels='Letter', axis = 1).iterrows():\n",
    "        y_pred.append(clf.predict([row[1].tolist()]))\n",
    "        counter +=1\n",
    "        print((counter/n)*100,\"%\",end=\"\\r\")\n",
    "    return y_pred,clf\n",
    "\n",
    "def test_classifier(clf, data):\n",
    "    y = []\n",
    "    for row in data.drop(labels='Letter', axis = 1).iterrows():\n",
    "        y.append(clf.predict(([row[1].tolist()])))\n",
    "    return y\n",
    "\n"
   ]
  },
  {
   "cell_type": "markdown",
   "metadata": {},
   "source": [
    "#### Splitting the raw set and running knn:"
   ]
  },
  {
   "cell_type": "code",
   "execution_count": 1101,
   "metadata": {},
   "outputs": [
    {
     "name": "stdout",
     "output_type": "stream",
     "text": [
      "100.0 %0366003871 %%%% % % % % % % %% % % %\r"
     ]
    }
   ],
   "source": [
    "\n",
    "# Raw training and test set:\n",
    "train_set_raw, test_set_raw = get_train_test_set(original_raw)\n",
    "\n",
    "#### KNN #####\n",
    "neigh = KNeighborsClassifier(n_neighbors=3)\n",
    "y_raw_train_pred, clf = calc_predictions(neigh,train_set_raw)\n",
    "\n",
    "y_test_pred = test_classifier(clf, test_set_raw)\n"
   ]
  },
  {
   "cell_type": "markdown",
   "metadata": {},
   "source": [
    "#### Splitting the merged set and running knn:"
   ]
  },
  {
   "cell_type": "code",
   "execution_count": 1100,
   "metadata": {
    "scrolled": true
   },
   "outputs": [
    {
     "name": "stdout",
     "output_type": "stream",
     "text": [
      "100.0 %7148504993 %%%% % % % % % % % %% % % % %%%%%% % % % % % % % %% % %% % % % %% % % % % % %%%% % % % % % %% %% %% % % % % % % % % % % % % % % % % % % % % % % % % % % % % % %% % % % % % % % % % % % % % %% % % % % % % % % % % % % %% % % % % % % % % % % % % % % % % % %% % % % % % % % % % % % % % % % %% % % % % % % % %% % % % % %%% % % % % % % % % % % % % % % % % % % % % % % % % % % % % % % % % % % % % % % % % % % % % % % % % %% % % % % % % % %% % % % % %%% % % % % % % % % % % %% % % % % % % % %% % %% % % % %% % % % % % % %% % % % %%\r"
     ]
    }
   ],
   "source": [
    "### Running model on the augmented + raw data:\n",
    "\n",
    "train_set_merged, test_set_merged = get_train_test_set(mergedData)\n",
    "\n",
    "neigh = KNeighborsClassifier(n_neighbors=3)\n",
    "y_merged_train_pred, clf_n = calc_predictions(neigh, train_set_merged)\n",
    "\n",
    "y_merged_test_pred = test_classifier(clf_n, test_set_merged)\n"
   ]
  },
  {
   "cell_type": "markdown",
   "metadata": {},
   "source": [
    "### Accuracy scores for knn"
   ]
  },
  {
   "cell_type": "code",
   "execution_count": 976,
   "metadata": {},
   "outputs": [
    {
     "name": "stdout",
     "output_type": "stream",
     "text": [
      "accuracy_score_knn_training_data: 0.8383802816901409\n",
      "accuracy_score_knn_test_data: 0.6801675977653632\n",
      "(34128,)\n",
      "accuracy_score_knn_training_data: 0.8413326300984529\n",
      "accuracy_score_knn_test_data: 0.6987359550561798\n"
     ]
    }
   ],
   "source": [
    "## Raw data:\n",
    "# Train:\n",
    "print(\"accuracy_score_knn_training_data:\", accuracy_score( train_set_raw.iloc[:,-1],y_raw_train_pred))\n",
    "# Test:\n",
    "print(\"accuracy_score_knn_test_data:\", accuracy_score( test_set_raw.iloc[:,-1],y_test_pred))\n",
    "\n",
    "\n",
    "print(train_set_merged.iloc[:,-1].shape)\n",
    "\n",
    "## Merged data:\n",
    "# Train:\n",
    "print(\"accuracy_score_knn_training_data:\", accuracy_score( train_set_merged.iloc[:,-1],y_merged_train_pred))\n",
    "# Test\n",
    "print(\"accuracy_score_knn_test_data:\", accuracy_score( test_set_merged.iloc[:,-1],y_merged_test_pred))\n",
    "\n"
   ]
  },
  {
   "cell_type": "markdown",
   "metadata": {},
   "source": [
    "## Random Forest (On Raw, merged, feature-treated data)\n"
   ]
  },
  {
   "cell_type": "code",
   "execution_count": 1256,
   "metadata": {},
   "outputs": [
    {
     "name": "stdout",
     "output_type": "stream",
     "text": [
      "100.0 %0366003871 %%%%% % %% % % %% % % %% %% %% %% % % % % % % % % %\r"
     ]
    }
   ],
   "source": [
    "clf_rf = RandomForestClassifier(n_estimators=200,random_state=0)\n",
    "\n",
    "y_raw_train_pred_rf, clf_rf = calc_predictions(clf_rf,train_set_raw)\n",
    "\n",
    "y_test_pred_rf = test_classifier(clf_rf, test_set_raw)"
   ]
  },
  {
   "cell_type": "code",
   "execution_count": null,
   "metadata": {},
   "outputs": [
    {
     "name": "stdout",
     "output_type": "stream",
     "text": [
      "70.4512841538056 %%%%%% %% %% % % % % % % % % % % %% % % % % %% %% % % % % %%% % % % % % % %% %% % %% % %% % % % % % % % % % % % %% % % % % % % %% %% % % % % % %% % % % %% % % % %%% % % % % % %% % % %%% %%% % % % % % % % % % % %% % %% %% % % % %% % % % % %%\r"
     ]
    }
   ],
   "source": [
    "y_merged_train_pred_rf, clf_rf = calc_predictions(clf_rf, train_set_merged)\n",
    "\n",
    "y_merged_test_pred_rf = test_classifier(clf_rf, test_set_merged)\n"
   ]
  },
  {
   "cell_type": "markdown",
   "metadata": {},
   "source": [
    "### Accuracy scores for random forest"
   ]
  },
  {
   "cell_type": "code",
   "execution_count": 1255,
   "metadata": {},
   "outputs": [
    {
     "ename": "ValueError",
     "evalue": "Found input variables with inconsistent numbers of samples: [5683, 5680]",
     "output_type": "error",
     "traceback": [
      "\u001b[0;31m---------------------------------------------------------------------------\u001b[0m",
      "\u001b[0;31mValueError\u001b[0m                                Traceback (most recent call last)",
      "\u001b[0;32m<ipython-input-1255-f96b2d294a26>\u001b[0m in \u001b[0;36m<module>\u001b[0;34m\u001b[0m\n\u001b[1;32m      2\u001b[0m \u001b[0;31m## Raw data:\u001b[0m\u001b[0;34m\u001b[0m\u001b[0;34m\u001b[0m\u001b[0;34m\u001b[0m\u001b[0m\n\u001b[1;32m      3\u001b[0m \u001b[0;31m# Train:\u001b[0m\u001b[0;34m\u001b[0m\u001b[0;34m\u001b[0m\u001b[0;34m\u001b[0m\u001b[0m\n\u001b[0;32m----> 4\u001b[0;31m \u001b[0mprint\u001b[0m\u001b[0;34m(\u001b[0m\u001b[0;34m\"accuracy_score_randomforest_training_data:\"\u001b[0m\u001b[0;34m,\u001b[0m \u001b[0maccuracy_score\u001b[0m\u001b[0;34m(\u001b[0m \u001b[0mtrain_set_raw\u001b[0m\u001b[0;34m.\u001b[0m\u001b[0miloc\u001b[0m\u001b[0;34m[\u001b[0m\u001b[0;34m:\u001b[0m\u001b[0;34m,\u001b[0m\u001b[0;34m-\u001b[0m\u001b[0;36m1\u001b[0m\u001b[0;34m]\u001b[0m\u001b[0;34m,\u001b[0m\u001b[0my_raw_train_pred_rf\u001b[0m\u001b[0;34m)\u001b[0m\u001b[0;34m)\u001b[0m\u001b[0;34m\u001b[0m\u001b[0;34m\u001b[0m\u001b[0m\n\u001b[0m\u001b[1;32m      5\u001b[0m \u001b[0;31m# Test:\u001b[0m\u001b[0;34m\u001b[0m\u001b[0;34m\u001b[0m\u001b[0;34m\u001b[0m\u001b[0m\n\u001b[1;32m      6\u001b[0m \u001b[0mprint\u001b[0m\u001b[0;34m(\u001b[0m\u001b[0;34m\"accuracy_score_randomforest_test_data:\"\u001b[0m\u001b[0;34m,\u001b[0m \u001b[0maccuracy_score\u001b[0m\u001b[0;34m(\u001b[0m \u001b[0mtest_set_raw\u001b[0m\u001b[0;34m.\u001b[0m\u001b[0miloc\u001b[0m\u001b[0;34m[\u001b[0m\u001b[0;34m:\u001b[0m\u001b[0;34m,\u001b[0m\u001b[0;34m-\u001b[0m\u001b[0;36m1\u001b[0m\u001b[0;34m]\u001b[0m\u001b[0;34m,\u001b[0m\u001b[0my_test_pred_rf\u001b[0m\u001b[0;34m)\u001b[0m\u001b[0;34m)\u001b[0m\u001b[0;34m\u001b[0m\u001b[0;34m\u001b[0m\u001b[0m\n",
      "\u001b[0;32m/Library/Frameworks/Python.framework/Versions/3.7/lib/python3.7/site-packages/sklearn/metrics/classification.py\u001b[0m in \u001b[0;36maccuracy_score\u001b[0;34m(y_true, y_pred, normalize, sample_weight)\u001b[0m\n\u001b[1;32m    174\u001b[0m \u001b[0;34m\u001b[0m\u001b[0m\n\u001b[1;32m    175\u001b[0m     \u001b[0;31m# Compute accuracy for each possible representation\u001b[0m\u001b[0;34m\u001b[0m\u001b[0;34m\u001b[0m\u001b[0;34m\u001b[0m\u001b[0m\n\u001b[0;32m--> 176\u001b[0;31m     \u001b[0my_type\u001b[0m\u001b[0;34m,\u001b[0m \u001b[0my_true\u001b[0m\u001b[0;34m,\u001b[0m \u001b[0my_pred\u001b[0m \u001b[0;34m=\u001b[0m \u001b[0m_check_targets\u001b[0m\u001b[0;34m(\u001b[0m\u001b[0my_true\u001b[0m\u001b[0;34m,\u001b[0m \u001b[0my_pred\u001b[0m\u001b[0;34m)\u001b[0m\u001b[0;34m\u001b[0m\u001b[0;34m\u001b[0m\u001b[0m\n\u001b[0m\u001b[1;32m    177\u001b[0m     \u001b[0mcheck_consistent_length\u001b[0m\u001b[0;34m(\u001b[0m\u001b[0my_true\u001b[0m\u001b[0;34m,\u001b[0m \u001b[0my_pred\u001b[0m\u001b[0;34m,\u001b[0m \u001b[0msample_weight\u001b[0m\u001b[0;34m)\u001b[0m\u001b[0;34m\u001b[0m\u001b[0;34m\u001b[0m\u001b[0m\n\u001b[1;32m    178\u001b[0m     \u001b[0;32mif\u001b[0m \u001b[0my_type\u001b[0m\u001b[0;34m.\u001b[0m\u001b[0mstartswith\u001b[0m\u001b[0;34m(\u001b[0m\u001b[0;34m'multilabel'\u001b[0m\u001b[0;34m)\u001b[0m\u001b[0;34m:\u001b[0m\u001b[0;34m\u001b[0m\u001b[0;34m\u001b[0m\u001b[0m\n",
      "\u001b[0;32m/Library/Frameworks/Python.framework/Versions/3.7/lib/python3.7/site-packages/sklearn/metrics/classification.py\u001b[0m in \u001b[0;36m_check_targets\u001b[0;34m(y_true, y_pred)\u001b[0m\n\u001b[1;32m     69\u001b[0m     \u001b[0my_pred\u001b[0m \u001b[0;34m:\u001b[0m \u001b[0marray\u001b[0m \u001b[0;32mor\u001b[0m \u001b[0mindicator\u001b[0m \u001b[0mmatrix\u001b[0m\u001b[0;34m\u001b[0m\u001b[0;34m\u001b[0m\u001b[0m\n\u001b[1;32m     70\u001b[0m     \"\"\"\n\u001b[0;32m---> 71\u001b[0;31m     \u001b[0mcheck_consistent_length\u001b[0m\u001b[0;34m(\u001b[0m\u001b[0my_true\u001b[0m\u001b[0;34m,\u001b[0m \u001b[0my_pred\u001b[0m\u001b[0;34m)\u001b[0m\u001b[0;34m\u001b[0m\u001b[0;34m\u001b[0m\u001b[0m\n\u001b[0m\u001b[1;32m     72\u001b[0m     \u001b[0mtype_true\u001b[0m \u001b[0;34m=\u001b[0m \u001b[0mtype_of_target\u001b[0m\u001b[0;34m(\u001b[0m\u001b[0my_true\u001b[0m\u001b[0;34m)\u001b[0m\u001b[0;34m\u001b[0m\u001b[0;34m\u001b[0m\u001b[0m\n\u001b[1;32m     73\u001b[0m     \u001b[0mtype_pred\u001b[0m \u001b[0;34m=\u001b[0m \u001b[0mtype_of_target\u001b[0m\u001b[0;34m(\u001b[0m\u001b[0my_pred\u001b[0m\u001b[0;34m)\u001b[0m\u001b[0;34m\u001b[0m\u001b[0;34m\u001b[0m\u001b[0m\n",
      "\u001b[0;32m/Library/Frameworks/Python.framework/Versions/3.7/lib/python3.7/site-packages/sklearn/utils/validation.py\u001b[0m in \u001b[0;36mcheck_consistent_length\u001b[0;34m(*arrays)\u001b[0m\n\u001b[1;32m    233\u001b[0m     \u001b[0;32mif\u001b[0m \u001b[0mlen\u001b[0m\u001b[0;34m(\u001b[0m\u001b[0muniques\u001b[0m\u001b[0;34m)\u001b[0m \u001b[0;34m>\u001b[0m \u001b[0;36m1\u001b[0m\u001b[0;34m:\u001b[0m\u001b[0;34m\u001b[0m\u001b[0;34m\u001b[0m\u001b[0m\n\u001b[1;32m    234\u001b[0m         raise ValueError(\"Found input variables with inconsistent numbers of\"\n\u001b[0;32m--> 235\u001b[0;31m                          \" samples: %r\" % [int(l) for l in lengths])\n\u001b[0m\u001b[1;32m    236\u001b[0m \u001b[0;34m\u001b[0m\u001b[0m\n\u001b[1;32m    237\u001b[0m \u001b[0;34m\u001b[0m\u001b[0m\n",
      "\u001b[0;31mValueError\u001b[0m: Found input variables with inconsistent numbers of samples: [5683, 5680]"
     ]
    }
   ],
   "source": [
    "### Random forest accuracy:\n",
    "## Raw data:\n",
    "# Train:\n",
    "print(\"accuracy_score_randomforest_training_data:\", accuracy_score( train_set_raw.iloc[:,-1],y_raw_train_pred_rf))\n",
    "# Test: \n",
    "print(\"accuracy_score_randomforest_test_data:\", accuracy_score( test_set_raw.iloc[:,-1],y_test_pred_rf))\n",
    "\n",
    "\n",
    "#print(train_set_merged.iloc[:,-1].shape)\n",
    "## Merged data:\n",
    "\n",
    "# Train:\n",
    "print(\"accuracy_score_randomforest_training_data_merged:\", accuracy_score( train_set_merged.iloc[:,-1],y_merged_train_pred_rf))\n",
    "# Test\n",
    "print(\"accuracy_score_randomforest_test_data_merged:\", accuracy_score( test_set_merged.iloc[:,-1],y_merged_test_pred_rf))\n",
    "\n"
   ]
  },
  {
   "cell_type": "code",
   "execution_count": 1254,
   "metadata": {},
   "outputs": [],
   "source": [
    "def printLetter(letter):\n",
    "    numpy_letter = letter[0:-1].values\n",
    "    plt.imshow(numpy_letter.reshape(20,20), cmap = matplotlib.cm.binary)\n",
    "    plt.axis(\"off\")\n",
    "    plt.title('Supposed to be {}'.format(numberDict.get(letter['Letter'])), fontsize=20)\n",
    "    plt.show()\n",
    "    return\n",
    "\n",
    "# a_letter = train_set.iloc[2001]\n",
    "# printLetter(a_letter)\n"
   ]
  },
  {
   "cell_type": "markdown",
   "metadata": {},
   "source": [
    "# Tensorflow\n",
    "### Implementation"
   ]
  },
  {
   "cell_type": "code",
   "execution_count": 927,
   "metadata": {},
   "outputs": [],
   "source": [
    "import tensorflow as tf\n",
    "import gzip\n",
    "import pickle\n",
    "\n",
    "def DNN(train_X,train_Y,test_X,test_y):\n",
    "    # Scale data (normalization), easier for network to learn:\n",
    "    # plt.imshow(train_X[0])\n",
    "    # plt.show\n",
    "    train_X = tf.keras.utils.normalize(train_X,axis=1)\n",
    "    test_X = tf.keras.utils.normalize(test_X,axis=1)\n",
    "\n",
    "    model = tf.keras.models.Sequential()\n",
    "    model.add(tf.keras.layers.Flatten())\n",
    "    model.add(tf.keras.layers.Dense(651, activation = tf.nn.relu )) \n",
    "    model.add(tf.keras.layers.Dense(651, activation = tf.nn.relu ))\n",
    "\n",
    "\n",
    "\n",
    "\n",
    "\n",
    "    model.add(tf.keras.layers.Dense(26, activation = tf.nn.softmax ))\n",
    "\n",
    "    model.compile(optimizer ='adam',\n",
    "                 loss='sparse_categorical_crossentropy',metrics=['accuracy'])\n",
    "\n",
    "    # train:\n",
    "    model.fit(train_X, train_Y, epochs = 18)\n",
    "    loss, accuracy = evaluate_model(model,test_X,test_y)\n",
    "\n",
    "    return loss, accuracy, model\n",
    "\n",
    "\n",
    "# Helper function trained model:\n",
    "def evaluate_model(model,test_X,test_y):\n",
    "    val_loss, val_acc = model.evaluate(test_X, test_y)\n",
    "    return val_loss, val_acc\n",
    "\n",
    "\n"
   ]
  },
  {
   "cell_type": "markdown",
   "metadata": {},
   "source": [
    "### Running TensorFlow DNN on the data:\n",
    "### Raw data and merged:"
   ]
  },
  {
   "cell_type": "code",
   "execution_count": 1102,
   "metadata": {
    "scrolled": true
   },
   "outputs": [
    {
     "name": "stdout",
     "output_type": "stream",
     "text": [
      "Epoch 1/18\n",
      "5683/5683 [==============================] - 5s 824us/sample - loss: 2.7228 - acc: 0.2414\n",
      "Epoch 2/18\n",
      "5683/5683 [==============================] - 4s 621us/sample - loss: 1.7616 - acc: 0.4876\n",
      "Epoch 3/18\n",
      "5683/5683 [==============================] - 4s 677us/sample - loss: 1.3419 - acc: 0.6067\n",
      "Epoch 4/18\n",
      "5683/5683 [==============================] - 4s 625us/sample - loss: 1.1173 - acc: 0.6817\n",
      "Epoch 5/18\n",
      "5683/5683 [==============================] - 4s 644us/sample - loss: 0.9435 - acc: 0.7278\n",
      "Epoch 6/18\n",
      "5683/5683 [==============================] - 4s 650us/sample - loss: 0.8175 - acc: 0.7686\n",
      "Epoch 7/18\n",
      "5683/5683 [==============================] - 4s 624us/sample - loss: 0.7162 - acc: 0.7920\n",
      "Epoch 8/18\n",
      "5683/5683 [==============================] - 3s 609us/sample - loss: 0.6187 - acc: 0.8254\n",
      "Epoch 9/18\n",
      "5683/5683 [==============================] - 4s 642us/sample - loss: 0.5530 - acc: 0.8422\n",
      "Epoch 10/18\n",
      "5683/5683 [==============================] - 5s 882us/sample - loss: 0.4983 - acc: 0.8592\n",
      "Epoch 11/18\n",
      "5683/5683 [==============================] - 4s 631us/sample - loss: 0.4378 - acc: 0.8714\n",
      "Epoch 12/18\n",
      "5683/5683 [==============================] - 3s 608us/sample - loss: 0.3927 - acc: 0.8928\n",
      "Epoch 13/18\n",
      "5683/5683 [==============================] - 3s 579us/sample - loss: 0.3441 - acc: 0.9050\n",
      "Epoch 14/18\n",
      "5683/5683 [==============================] - 3s 587us/sample - loss: 0.2923 - acc: 0.9191\n",
      "Epoch 15/18\n",
      "5683/5683 [==============================] - 3s 598us/sample - loss: 0.2631 - acc: 0.9277\n",
      "Epoch 16/18\n",
      "5683/5683 [==============================] - 3s 590us/sample - loss: 0.2274 - acc: 0.9395\n",
      "Epoch 17/18\n",
      "5683/5683 [==============================] - 3s 591us/sample - loss: 0.2039 - acc: 0.9444\n",
      "Epoch 18/18\n",
      "5683/5683 [==============================] - 3s 605us/sample - loss: 0.1918 - acc: 0.9477\n",
      "1433/1433 [==============================] - 1s 756us/sample - loss: 0.7049 - acc: 0.8227\n",
      " \n",
      "loss on raw data: 11\n",
      "Accuracy on raw data:  0.8227495\n",
      "Epoch 1/18\n",
      "34147/34147 [==============================] - 32s 927us/sample - loss: 2.3682 - acc: 0.3110\n",
      "Epoch 2/18\n",
      "34147/34147 [==============================] - 25s 731us/sample - loss: 1.5294 - acc: 0.5539\n",
      "Epoch 3/18\n",
      "34147/34147 [==============================] - 23s 667us/sample - loss: 1.2141 - acc: 0.6511\n",
      "Epoch 4/18\n",
      "34147/34147 [==============================] - 21s 612us/sample - loss: 1.0219 - acc: 0.7053\n",
      "Epoch 5/18\n",
      "34147/34147 [==============================] - 21s 617us/sample - loss: 0.8789 - acc: 0.7442\n",
      "Epoch 6/18\n",
      "34147/34147 [==============================] - 23s 686us/sample - loss: 0.7616 - acc: 0.7772\n",
      "Epoch 7/18\n",
      "34147/34147 [==============================] - 23s 661us/sample - loss: 0.6700 - acc: 0.8016\n",
      "Epoch 8/18\n",
      "34147/34147 [==============================] - 27s 785us/sample - loss: 0.5924 - acc: 0.8225\n",
      "Epoch 9/18\n",
      "34147/34147 [==============================] - 24s 697us/sample - loss: 0.5222 - acc: 0.8450\n",
      "Epoch 10/18\n",
      "34147/34147 [==============================] - 24s 700us/sample - loss: 0.4622 - acc: 0.8594\n",
      "Epoch 11/18\n",
      "34147/34147 [==============================] - 27s 803us/sample - loss: 0.4029 - acc: 0.8775\n",
      "Epoch 12/18\n",
      "34147/34147 [==============================] - 25s 721us/sample - loss: 0.3563 - acc: 0.8914\n",
      "Epoch 13/18\n",
      "34147/34147 [==============================] - 30s 873us/sample - loss: 0.3143 - acc: 0.9051\n",
      "Epoch 14/18\n",
      "34147/34147 [==============================] - 31s 899us/sample - loss: 0.2752 - acc: 0.9156\n",
      "Epoch 15/18\n",
      "34147/34147 [==============================] - 23s 686us/sample - loss: 0.2404 - acc: 0.9257\n",
      "Epoch 16/18\n",
      "34147/34147 [==============================] - 21s 626us/sample - loss: 0.2117 - acc: 0.9350\n",
      "Epoch 17/18\n",
      "34147/34147 [==============================] - 21s 620us/sample - loss: 0.1922 - acc: 0.9403\n",
      "Epoch 18/18\n",
      "34147/34147 [==============================] - 21s 625us/sample - loss: 0.1730 - acc: 0.9474\n",
      "8549/8549 [==============================] - 4s 434us/sample - loss: 1.0603 - acc: 0.7645\n",
      " \n",
      "loss on merged data: 12\n",
      "Accuracy on merged data:  0.7645339\n"
     ]
    }
   ],
   "source": [
    "# train and test are dataframes (with the labels in the last column for both)\n",
    "def transform_data_for_tensorflow_and_run(train,test):\n",
    "    trainx = (train.drop(labels='Letter', axis = 1)).values\n",
    "    trainy = np.array(train['Letter'].tolist())\n",
    "    \n",
    "    testx = (test.drop(labels='Letter', axis = 1)).values\n",
    "    testy = np.array(test['Letter'].tolist())\n",
    "    loss, accuracy, model_tensor = DNN(trainx,\n",
    "           trainy,\n",
    "           testx,\n",
    "           testy)\n",
    "    \n",
    "    return loss, accuracy, model_tensor\n",
    "\n",
    "# Raw set:\n",
    "l1,a1,model_tensor = transform_data_for_tensorflow_and_run(train_set_raw,\n",
    "                                              test_set_raw)\n",
    "print(\" \")\n",
    "print(\"loss on raw data:\",11)\n",
    "print(\"Accuracy on raw data: \",a1)\n",
    "\n",
    "# Merged set\n",
    "l2, a2,model_tensor_merged = transform_data_for_tensorflow_and_run(train_set_merged,\n",
    "                                               test_set_merged)\n",
    "print(\" \")\n",
    "print(\"loss on merged data:\",12)\n",
    "print(\"Accuracy on merged data: \",a2)\n"
   ]
  },
  {
   "cell_type": "markdown",
   "metadata": {},
   "source": [
    "# Printing some classified images:"
   ]
  },
  {
   "cell_type": "code",
   "execution_count": null,
   "metadata": {},
   "outputs": [],
   "source": [
    "# Ikke ta med\n",
    "# Print classifications:\n",
    "\n",
    "# kNN:\n",
    "o = 1\n",
    "res = []\n",
    "plot = []\n",
    "for j in range(2000):\n",
    "    o=o+4\n",
    "    # print(\"Was classified as an: \", numberDict.get(y_merged_test_pred_rf[o][0]))\n",
    "    #print(test_set_raw[\"Letter\"][o])\n",
    "\n",
    "    #print((test_set_raw.iloc[o,:]))\n",
    "\n",
    "    a = ((test_set_merged.drop(labels='Letter', axis = 1)).loc[o].tolist())\n",
    "    plot.append(np.reshape(a,(20,20)))\n",
    "    \n",
    "    \n",
    "    # a = np.reshape(a, (20, 20))\n",
    "    a = pd.DataFrame(data=a).T\n",
    "\n",
    "    #print(a.values)\n",
    "    #a\n",
    "    #print(np.reshape(a,(20,20))\n",
    "    \n",
    "    # a = resize[:, :, 0]\n",
    "    #a=np.reshape(window,20*20)\n",
    "    #a = pd.DataFrame(data=window).T\n",
    "    #a.append(window)\n",
    "    #list1 = (window.values[0])\n",
    "        \n",
    "    \n",
    "    \n",
    "    \n",
    "    #a = np.reshape(a,20,20)\n",
    "    #a = np.asarray(a)\n",
    "    \n",
    "    #print(len(a))\n",
    "    a=(model_tensor.predict(a.values))\n",
    "    res.append(a)\n",
    "    \n",
    "    #print(a)\n",
    "    \n",
    "    \n",
    "# Random Forest:\n",
    "#a.values\n",
    "res\n",
    "\n",
    "\n",
    "# Printer den klassiserte dataen:\n",
    "print(\" \")\n",
    "i = 0\n",
    "for r in res:\n",
    "    \n",
    "    num = (np.where(r[0] == (np.amax((r[0]))))[0][0])\n",
    "    print(\"Was classified as an:\",numberDict.get(num))\n",
    "    plt.imshow(plot[i])\n",
    "    plt.show()\n",
    "    i+=1\n",
    "\n",
    "    print(\" \")\n",
    "\n",
    "\n",
    "    \n"
   ]
  },
  {
   "cell_type": "markdown",
   "metadata": {},
   "source": [
    "# Sliding window detection implementation with TensorFlow:"
   ]
  },
  {
   "cell_type": "code",
   "execution_count": 1249,
   "metadata": {
    "scrolled": true
   },
   "outputs": [
    {
     "name": "stdout",
     "output_type": "stream",
     "text": [
      " \r"
     ]
    },
    {
     "data": {
      "image/png": "[encoded data removed]",
      "text/plain": [
       "<Figure size 432x288 with 1 Axes>"
      ]
     },
     "metadata": {
      "needs_background": "light"
     },
     "output_type": "display_data"
    }
   ],
   "source": [
    "## Sliding window detection:\n",
    "\n",
    "import cv2\n",
    "import matplotlib.pyplot as plt\n",
    "import numpy as np\n",
    "\n",
    "\n",
    "def OCR(imagepath):\n",
    "    # read the image and define the stepSize and window size \n",
    "    image = cv2.imread(imagepath) # your image path\n",
    "    tmp = image # for drawing a rectangle\n",
    "    stepSize = 30\n",
    "    (w_width, w_height) = (30,30) # window size\n",
    "    class_letter = []\n",
    "    number=[] # To keep track of which square in the grid that is classified\n",
    "    i = 0 # counter for the number\n",
    "    windows=[]\n",
    "    for x in range(0, image.shape[1] - w_width , stepSize):\n",
    "        for y in range(0, image.shape[0] - w_height, stepSize):\n",
    "            window = image[x:x + w_width, y:y + w_height, :]\n",
    "            resize = cv2.resize(window,(20,20),interpolation =cv2.INTER_AREA)\n",
    "            window = np.asarray(resize)\n",
    "            window = resize[:, :, 0]\n",
    "            window=np.reshape(window,20*20)\n",
    "            window = pd.DataFrame(data=window).T\n",
    "            windows.append(window)\n",
    "            list1 = (window.values[0])\n",
    "            \n",
    "            # Check if the window is \"blank\"\n",
    "            if all(x == list1[0] for x in list1):\n",
    "                print(\" \", end=\"\\r\")\n",
    "                # print(\"All elements in list are same.\")\n",
    "            else:\n",
    "                # Classify window:\n",
    "                prediction  = model_tensor_merged.predict(window.values)\n",
    "                class_letter.append(prediction)\n",
    "\n",
    "                # knn\n",
    "                # class_letter.append(test_classifier_sliding(clf_n,window))\n",
    "                number.append(i)\n",
    "\n",
    "            # Plot the grid on top of the image:\n",
    "            cv2.rectangle(tmp, (x, y), (x + w_width, y + w_height), (255, 0, 0), 2) # draw rectangle on image\n",
    "            plt.imshow(np.array(tmp).astype('uint8'))\n",
    "            i+=1\n",
    "    # show all windows\n",
    "    plt.show()\n",
    "    return windows, number, class_letter\n",
    "    \n",
    "windows, number, class_letter = OCR(\"./detection-images/detection-1.jpg\")"
   ]
  },
  {
   "cell_type": "code",
   "execution_count": 1005,
   "metadata": {},
   "outputs": [],
   "source": [
    "def test_classifier_sliding(clf, data):\n",
    "    y = []\n",
    "    for row in data.iterrows():\n",
    "        y.append(clf.predict(([row[1].tolist()])))\n",
    "    return y\n",
    "\n",
    "def test_classifier_sliding1(clf, data):\n",
    "    y = []\n",
    "    for row in data:\n",
    "        y.append(clf.predict(([row[1].tolist()])))\n",
    "    return y"
   ]
  },
  {
   "cell_type": "code",
   "execution_count": 1250,
   "metadata": {},
   "outputs": [
    {
     "name": "stdout",
     "output_type": "stream",
     "text": [
      "0.0 A 12\n"
     ]
    }
   ],
   "source": [
    "# Ikke ta med:\n",
    "prev = 99\n",
    "count =0\n",
    "for c in class_letter:\n",
    "    l = (c[0][0])\n",
    "    if prev != l:\n",
    "        print(l,numberDict.get(l),number[count])\n",
    "        prev = l\n",
    "        count+=1\n",
    "        \n"
   ]
  },
  {
   "cell_type": "markdown",
   "metadata": {},
   "source": [
    "### Printer den klassifiserte dataen fra hele systemet, number er hvilken rute den befinner seg i:"
   ]
  },
  {
   "cell_type": "code",
   "execution_count": 1252,
   "metadata": {
    "scrolled": false
   },
   "outputs": [
    {
     "name": "stdout",
     "output_type": "stream",
     "text": [
      " \n",
      "L 12\n",
      "L 13\n",
      "O 15\n",
      "L 16\n",
      "L 17\n",
      "L 18\n",
      "L 19\n",
      "E 20\n",
      "L 22\n",
      "L 23\n"
     ]
    }
   ],
   "source": [
    "# Prints the classified data and which square in the grid it belongs to:\n",
    "print(\" \")\n",
    "i = 0\n",
    "for c in class_letter:\n",
    "    num = (np.where(c[0] == (np.amax((c[0]))))[0][0])\n",
    "    print(numberDict.get(num),number[i])\n",
    "    i+=1 "
   ]
  },
  {
   "cell_type": "markdown",
   "metadata": {},
   "source": [
    "### Printing av windows fra sliding window detection:"
   ]
  },
  {
   "cell_type": "code",
   "execution_count": 1083,
   "metadata": {
    "scrolled": true
   },
   "outputs": [
    {
     "name": "stdout",
     "output_type": "stream",
     "text": [
      "teller:  0\n",
      "   0    1    2    3    4    5    6    7    8    9    ...  390  391  392  393  \\\n",
      "0  255  255  255  255  255  255  255  255  255  255  ...  255  255  255  255   \n",
      "\n",
      "   394  395  396  397  398  399  \n",
      "0  255  255  255  255  255  255  \n",
      "\n",
      "[1 rows x 400 columns]\n"
     ]
    },
    {
     "data": {
      "image/png": "[encoded data removed]",
      "text/plain": [
       "<Figure size 432x288 with 1 Axes>"
      ]
     },
     "metadata": {
      "needs_background": "light"
     },
     "output_type": "display_data"
    },
    {
     "name": "stdout",
     "output_type": "stream",
     "text": [
      "teller:  1\n",
      "   0    1    2    3    4    5    6    7    8    9    ...  390  391  392  393  \\\n",
      "0  255  255  255  255  255  255  255  255  255  255  ...  255  255  255  255   \n",
      "\n",
      "   394  395  396  397  398  399  \n",
      "0  255  255  255  255  255  255  \n",
      "\n",
      "[1 rows x 400 columns]\n"
     ]
    },
    {
     "data": {
      "image/png": "[encoded data removed]",
      "text/plain": [
       "<Figure size 432x288 with 1 Axes>"
      ]
     },
     "metadata": {
      "needs_background": "light"
     },
     "output_type": "display_data"
    },
    {
     "name": "stdout",
     "output_type": "stream",
     "text": [
      "teller:  2\n",
      "   0    1    2    3    4    5    6    7    8    9    ...  390  391  392  393  \\\n",
      "0  255  255  255  255  255  255  255  255  255  255  ...  255  255  255  255   \n",
      "\n",
      "   394  395  396  397  398  399  \n",
      "0  255  255  255  255  255  255  \n",
      "\n",
      "[1 rows x 400 columns]\n"
     ]
    },
    {
     "data": {
      "image/png": "[encoded data removed]",
      "text/plain": [
       "<Figure size 432x288 with 1 Axes>"
      ]
     },
     "metadata": {
      "needs_background": "light"
     },
     "output_type": "display_data"
    },
    {
     "name": "stdout",
     "output_type": "stream",
     "text": [
      "teller:  3\n",
      "   0    1    2    3    4    5    6    7    8    9    ...  390  391  392  393  \\\n",
      "0  255  255  255  255  255  255  255  255  255  255  ...  255  255  255  255   \n",
      "\n",
      "   394  395  396  397  398  399  \n",
      "0  255  255  255  255  255  255  \n",
      "\n",
      "[1 rows x 400 columns]\n"
     ]
    },
    {
     "data": {
      "image/png": "[encoded data removed]",
      "text/plain": [
       "<Figure size 432x288 with 1 Axes>"
      ]
     },
     "metadata": {
      "needs_background": "light"
     },
     "output_type": "display_data"
    },
    {
     "name": "stdout",
     "output_type": "stream",
     "text": [
      "teller:  4\n",
      "   0    1    2    3    4    5    6    7    8    9    ...  390  391  392  393  \\\n",
      "0  255  255  255  255  255  255  255  255  255  255  ...  255  255  255  255   \n",
      "\n",
      "   394  395  396  397  398  399  \n",
      "0  255  255  255  255  255  255  \n",
      "\n",
      "[1 rows x 400 columns]\n"
     ]
    },
    {
     "data": {
      "image/png": "[encoded data removed]",
      "text/plain": [
       "<Figure size 432x288 with 1 Axes>"
      ]
     },
     "metadata": {
      "needs_background": "light"
     },
     "output_type": "display_data"
    },
    {
     "name": "stdout",
     "output_type": "stream",
     "text": [
      "teller:  5\n",
      "   0    1    2    3    4    5    6    7    8    9    ...  390  391  392  393  \\\n",
      "0  255  255  255  255  255  255  255  255  255  255  ...  255  255  255  255   \n",
      "\n",
      "   394  395  396  397  398  399  \n",
      "0  255  255  255  255  255  255  \n",
      "\n",
      "[1 rows x 400 columns]\n"
     ]
    },
    {
     "data": {
      "image/png": "[encoded data removed]",
      "text/plain": [
       "<Figure size 432x288 with 1 Axes>"
      ]
     },
     "metadata": {
      "needs_background": "light"
     },
     "output_type": "display_data"
    },
    {
     "name": "stdout",
     "output_type": "stream",
     "text": [
      "teller:  6\n",
      "   0    1    2    3    4    5    6    7    8    9    ...  390  391  392  393  \\\n",
      "0  255  255  255  255  255  255  255  255  255  255  ...  255  255  255  255   \n",
      "\n",
      "   394  395  396  397  398  399  \n",
      "0  255  255  255  255  255  255  \n",
      "\n",
      "[1 rows x 400 columns]\n"
     ]
    },
    {
     "data": {
      "image/png": "[encoded data removed]",
      "text/plain": [
       "<Figure size 432x288 with 1 Axes>"
      ]
     },
     "metadata": {
      "needs_background": "light"
     },
     "output_type": "display_data"
    },
    {
     "name": "stdout",
     "output_type": "stream",
     "text": [
      "teller:  7\n",
      "   0    1    2    3    4    5    6    7    8    9    ...  390  391  392  393  \\\n",
      "0  255  255  255  255  255  255  255  255  255  255  ...  255  255  255  255   \n",
      "\n",
      "   394  395  396  397  398  399  \n",
      "0  255  255  255  255  255  255  \n",
      "\n",
      "[1 rows x 400 columns]\n"
     ]
    },
    {
     "data": {
      "image/png": "[encoded data removed]",
      "text/plain": [
       "<Figure size 432x288 with 1 Axes>"
      ]
     },
     "metadata": {
      "needs_background": "light"
     },
     "output_type": "display_data"
    },
    {
     "name": "stdout",
     "output_type": "stream",
     "text": [
      "teller:  8\n",
      "   0    1    2    3    4    5    6    7    8    9    ...  390  391  392  393  \\\n",
      "0  255  255  255  255  255  255  255  255  255  255  ...  255  255  255  255   \n",
      "\n",
      "   394  395  396  397  398  399  \n",
      "0  255  255  255  255  255  255  \n",
      "\n",
      "[1 rows x 400 columns]\n"
     ]
    },
    {
     "data": {
      "image/png": "[encoded data removed]",
      "text/plain": [
       "<Figure size 432x288 with 1 Axes>"
      ]
     },
     "metadata": {
      "needs_background": "light"
     },
     "output_type": "display_data"
    },
    {
     "name": "stdout",
     "output_type": "stream",
     "text": [
      "teller:  9\n",
      "   0    1    2    3    4    5    6    7    8    9    ...  390  391  392  393  \\\n",
      "0  255  255  255  255  255  255  255  255  255  255  ...  255  255  255  255   \n",
      "\n",
      "   394  395  396  397  398  399  \n",
      "0  255  255  255  255  255  255  \n",
      "\n",
      "[1 rows x 400 columns]\n"
     ]
    },
    {
     "data": {
      "image/png": "[encoded data removed]",
      "text/plain": [
       "<Figure size 432x288 with 1 Axes>"
      ]
     },
     "metadata": {
      "needs_background": "light"
     },
     "output_type": "display_data"
    },
    {
     "name": "stdout",
     "output_type": "stream",
     "text": [
      "teller:  10\n",
      "   0    1    2    3    4    5    6    7    8    9    ...  390  391  392  393  \\\n",
      "0  255  255  255  255  255  255  255  255  255  255  ...  255  255  255  255   \n",
      "\n",
      "   394  395  396  397  398  399  \n",
      "0  255  255  255  255  255  255  \n",
      "\n",
      "[1 rows x 400 columns]\n"
     ]
    },
    {
     "data": {
      "image/png": "[encoded data removed]",
      "text/plain": [
       "<Figure size 432x288 with 1 Axes>"
      ]
     },
     "metadata": {
      "needs_background": "light"
     },
     "output_type": "display_data"
    },
    {
     "name": "stdout",
     "output_type": "stream",
     "text": [
      "teller:  11\n",
      "   0    1    2    3    4    5    6    7    8    9    ...  390  391  392  393  \\\n",
      "0  255  255  255  255  255  255  255  255  255  255  ...  255  255  255  255   \n",
      "\n",
      "   394  395  396  397  398  399  \n",
      "0  255  255  255  255  255  255  \n",
      "\n",
      "[1 rows x 400 columns]\n"
     ]
    },
    {
     "data": {
      "image/png": "[encoded data removed]",
      "text/plain": [
       "<Figure size 432x288 with 1 Axes>"
      ]
     },
     "metadata": {
      "needs_background": "light"
     },
     "output_type": "display_data"
    },
    {
     "name": "stdout",
     "output_type": "stream",
     "text": [
      "teller:  12\n",
      "   0    1    2    3    4    5    6    7    8    9    ...  390  391  392  393  \\\n",
      "0  255  255  255  255  255  255  255  255  255  255  ...  255  255  255  255   \n",
      "\n",
      "   394  395  396  397  398  399  \n",
      "0  255  255  255  255  255  255  \n",
      "\n",
      "[1 rows x 400 columns]\n"
     ]
    },
    {
     "data": {
      "image/png": "[encoded data removed]",
      "text/plain": [
       "<Figure size 432x288 with 1 Axes>"
      ]
     },
     "metadata": {
      "needs_background": "light"
     },
     "output_type": "display_data"
    },
    {
     "name": "stdout",
     "output_type": "stream",
     "text": [
      "teller:  13\n",
      "   0    1    2    3    4    5    6    7    8    9    ...  390  391  392  393  \\\n",
      "0  255  255  255  255  255  255  255  255  255  255  ...  255  255  255  255   \n",
      "\n",
      "   394  395  396  397  398  399  \n",
      "0  255  255  255  255  255  255  \n",
      "\n",
      "[1 rows x 400 columns]\n"
     ]
    },
    {
     "data": {
      "image/png": "[encoded data removed]",
      "text/plain": [
       "<Figure size 432x288 with 1 Axes>"
      ]
     },
     "metadata": {
      "needs_background": "light"
     },
     "output_type": "display_data"
    },
    {
     "name": "stdout",
     "output_type": "stream",
     "text": [
      "teller:  14\n",
      "   0    1    2    3    4    5    6    7    8    9    ...  390  391  392  393  \\\n",
      "0  255  255  255  255  255  255  255  255  255  255  ...  255  255  255  255   \n",
      "\n",
      "   394  395  396  397  398  399  \n",
      "0  255  255  255  255  255  255  \n",
      "\n",
      "[1 rows x 400 columns]\n"
     ]
    },
    {
     "data": {
      "image/png": "[encoded data removed]",
      "text/plain": [
       "<Figure size 432x288 with 1 Axes>"
      ]
     },
     "metadata": {
      "needs_background": "light"
     },
     "output_type": "display_data"
    },
    {
     "name": "stdout",
     "output_type": "stream",
     "text": [
      "teller:  15\n",
      "   0    1    2    3    4    5    6    7    8    9    ...  390  391  392  393  \\\n",
      "0  255  255  255  255  255  255  255  255  255  255  ...  255  255  255  255   \n",
      "\n",
      "   394  395  396  397  398  399  \n",
      "0  255  255  255  255  255  255  \n",
      "\n",
      "[1 rows x 400 columns]\n"
     ]
    },
    {
     "data": {
      "image/png": "[encoded data removed]",
      "text/plain": [
       "<Figure size 432x288 with 1 Axes>"
      ]
     },
     "metadata": {
      "needs_background": "light"
     },
     "output_type": "display_data"
    },
    {
     "name": "stdout",
     "output_type": "stream",
     "text": [
      "teller:  16\n",
      "   0    1    2    3    4    5    6    7    8    9    ...  390  391  392  393  \\\n",
      "0  255  255  255  255  255  255  255  255  255  255  ...  255  255  255  255   \n",
      "\n",
      "   394  395  396  397  398  399  \n",
      "0  255  255  255  255  255  255  \n",
      "\n",
      "[1 rows x 400 columns]\n"
     ]
    },
    {
     "data": {
      "image/png": "[encoded data removed]",
      "text/plain": [
       "<Figure size 432x288 with 1 Axes>"
      ]
     },
     "metadata": {
      "needs_background": "light"
     },
     "output_type": "display_data"
    },
    {
     "name": "stdout",
     "output_type": "stream",
     "text": [
      "teller:  17\n",
      "   0    1    2    3    4    5    6    7    8    9    ...  390  391  392  393  \\\n",
      "0  255  255  255  255  255  255  255  255  255  255  ...  255  255  255  255   \n",
      "\n",
      "   394  395  396  397  398  399  \n",
      "0  255  255  255  255  255  255  \n",
      "\n",
      "[1 rows x 400 columns]\n"
     ]
    },
    {
     "data": {
      "image/png": "[encoded data removed]",
      "text/plain": [
       "<Figure size 432x288 with 1 Axes>"
      ]
     },
     "metadata": {
      "needs_background": "light"
     },
     "output_type": "display_data"
    },
    {
     "name": "stdout",
     "output_type": "stream",
     "text": [
      "teller:  18\n",
      "   0    1    2    3    4    5    6    7    8    9    ...  390  391  392  393  \\\n",
      "0  255  255  255  255  255  255  255  255  255  255  ...  255  255  255  255   \n",
      "\n",
      "   394  395  396  397  398  399  \n",
      "0  255  255  255  255  255  255  \n",
      "\n",
      "[1 rows x 400 columns]\n"
     ]
    },
    {
     "data": {
      "image/png": "[encoded data removed]",
      "text/plain": [
       "<Figure size 432x288 with 1 Axes>"
      ]
     },
     "metadata": {
      "needs_background": "light"
     },
     "output_type": "display_data"
    },
    {
     "name": "stdout",
     "output_type": "stream",
     "text": [
      "teller:  19\n",
      "   0    1    2    3    4    5    6    7    8    9    ...  390  391  392  393  \\\n",
      "0  255  255  255  255  255  255  255  255  255  255  ...  255  255  255  255   \n",
      "\n",
      "   394  395  396  397  398  399  \n",
      "0  255  255  255  255  255  255  \n",
      "\n",
      "[1 rows x 400 columns]\n"
     ]
    },
    {
     "data": {
      "image/png": "[encoded data removed]",
      "text/plain": [
       "<Figure size 432x288 with 1 Axes>"
      ]
     },
     "metadata": {
      "needs_background": "light"
     },
     "output_type": "display_data"
    },
    {
     "name": "stdout",
     "output_type": "stream",
     "text": [
      "teller:  20\n",
      "   0    1    2    3    4    5    6    7    8    9    ...  390  391  392  393  \\\n",
      "0  255  255  255  255  255  255  255  255  255  255  ...  255  255  255  255   \n",
      "\n",
      "   394  395  396  397  398  399  \n",
      "0  255  255  255  255  255  255  \n",
      "\n",
      "[1 rows x 400 columns]\n"
     ]
    },
    {
     "data": {
      "image/png": "[encoded data removed]",
      "text/plain": [
       "<Figure size 432x288 with 1 Axes>"
      ]
     },
     "metadata": {
      "needs_background": "light"
     },
     "output_type": "display_data"
    },
    {
     "name": "stdout",
     "output_type": "stream",
     "text": [
      "teller:  21\n",
      "   0    1    2    3    4    5    6    7    8    9    ...  390  391  392  393  \\\n",
      "0  255  255  255  255  255  255  255  255  255  255  ...  255  255  255  255   \n",
      "\n",
      "   394  395  396  397  398  399  \n",
      "0  255  255  255  255  255  255  \n",
      "\n",
      "[1 rows x 400 columns]\n"
     ]
    },
    {
     "data": {
      "image/png": "[encoded data removed]",
      "text/plain": [
       "<Figure size 432x288 with 1 Axes>"
      ]
     },
     "metadata": {
      "needs_background": "light"
     },
     "output_type": "display_data"
    },
    {
     "name": "stdout",
     "output_type": "stream",
     "text": [
      "teller:  22\n",
      "   0    1    2    3    4    5    6    7    8    9    ...  390  391  392  393  \\\n",
      "0  255  255  255  255  255  255  255  255  255  255  ...  255  255  255  255   \n",
      "\n",
      "   394  395  396  397  398  399  \n",
      "0  255  255  255  255  255  255  \n",
      "\n",
      "[1 rows x 400 columns]\n"
     ]
    },
    {
     "data": {
      "image/png": "[encoded data removed]",
      "text/plain": [
       "<Figure size 432x288 with 1 Axes>"
      ]
     },
     "metadata": {
      "needs_background": "light"
     },
     "output_type": "display_data"
    },
    {
     "name": "stdout",
     "output_type": "stream",
     "text": [
      "teller:  23\n",
      "   0    1    2    3    4    5    6    7    8    9    ...  390  391  392  393  \\\n",
      "0  170  170  170  170  170  170  170  170  198  255  ...  255  255  255  255   \n",
      "\n",
      "   394  395  396  397  398  399  \n",
      "0  255  255  255  255  255  255  \n",
      "\n",
      "[1 rows x 400 columns]\n"
     ]
    },
    {
     "data": {
      "image/png": "[encoded data removed]",
      "text/plain": [
       "<Figure size 432x288 with 1 Axes>"
      ]
     },
     "metadata": {
      "needs_background": "light"
     },
     "output_type": "display_data"
    },
    {
     "name": "stdout",
     "output_type": "stream",
     "text": [
      "teller:  24\n",
      "   0    1    2    3    4    5    6    7    8    9    ...  390  391  392  393  \\\n",
      "0  255  255  255  255  255  255  255  255  255  255  ...  255  255  255  255   \n",
      "\n",
      "   394  395  396  397  398  399  \n",
      "0  255  255  255  255  255  255  \n",
      "\n",
      "[1 rows x 400 columns]\n"
     ]
    },
    {
     "data": {
      "image/png": "[encoded data removed]",
      "text/plain": [
       "<Figure size 432x288 with 1 Axes>"
      ]
     },
     "metadata": {
      "needs_background": "light"
     },
     "output_type": "display_data"
    },
    {
     "name": "stdout",
     "output_type": "stream",
     "text": [
      "teller:  25\n",
      "   0    1    2    3    4    5    6    7    8    9    ...  390  391  392  393  \\\n",
      "0  255  255  255  255  255  255  255  255  255  255  ...  255  255  255  255   \n",
      "\n",
      "   394  395  396  397  398  399  \n",
      "0  255  255  255  255  255  255  \n",
      "\n",
      "[1 rows x 400 columns]\n"
     ]
    },
    {
     "data": {
      "image/png": "[encoded data removed]",
      "text/plain": [
       "<Figure size 432x288 with 1 Axes>"
      ]
     },
     "metadata": {
      "needs_background": "light"
     },
     "output_type": "display_data"
    },
    {
     "name": "stdout",
     "output_type": "stream",
     "text": [
      "teller:  26\n",
      "   0    1    2    3    4    5    6    7    8    9    ...  390  391  392  393  \\\n",
      "0  255  255  255  255  255  255  255  255  255  255  ...  255  255  255  255   \n",
      "\n",
      "   394  395  396  397  398  399  \n",
      "0  255  255  255  255  255  255  \n",
      "\n",
      "[1 rows x 400 columns]\n"
     ]
    },
    {
     "data": {
      "image/png": "[encoded data removed]",
      "text/plain": [
       "<Figure size 432x288 with 1 Axes>"
      ]
     },
     "metadata": {
      "needs_background": "light"
     },
     "output_type": "display_data"
    },
    {
     "name": "stdout",
     "output_type": "stream",
     "text": [
      "teller:  27\n",
      "   0    1    2    3    4    5    6    7    8    9    ...  390  391  392  393  \\\n",
      "0  255  255  255  255  255  255  255  255  255  255  ...  255  255  255  255   \n",
      "\n",
      "   394  395  396  397  398  399  \n",
      "0  255  255  255  255  255  255  \n",
      "\n",
      "[1 rows x 400 columns]\n"
     ]
    },
    {
     "data": {
      "image/png": "[encoded data removed]",
      "text/plain": [
       "<Figure size 432x288 with 1 Axes>"
      ]
     },
     "metadata": {
      "needs_background": "light"
     },
     "output_type": "display_data"
    },
    {
     "name": "stdout",
     "output_type": "stream",
     "text": [
      "teller:  28\n",
      "   0    1    2    3    4    5    6    7    8    9    ...  390  391  392  393  \\\n",
      "0  255  255  255  255  255  255  255  255  255  255  ...  255  255  255  255   \n",
      "\n",
      "   394  395  396  397  398  399  \n",
      "0  255  255  255  255  255  255  \n",
      "\n",
      "[1 rows x 400 columns]\n"
     ]
    },
    {
     "data": {
      "image/png": "[encoded data removed]",
      "text/plain": [
       "<Figure size 432x288 with 1 Axes>"
      ]
     },
     "metadata": {
      "needs_background": "light"
     },
     "output_type": "display_data"
    },
    {
     "name": "stdout",
     "output_type": "stream",
     "text": [
      "teller:  29\n",
      "   0    1    2    3    4    5    6    7    8    9    ...  390  391  392  393  \\\n",
      "0  255  255  255  255  255  255  255  255  255  255  ...  255  255  255  255   \n",
      "\n",
      "   394  395  396  397  398  399  \n",
      "0  255  255  255  255  255  255  \n",
      "\n",
      "[1 rows x 400 columns]\n"
     ]
    },
    {
     "data": {
      "image/png": "[encoded data removed]",
      "text/plain": [
       "<Figure size 432x288 with 1 Axes>"
      ]
     },
     "metadata": {
      "needs_background": "light"
     },
     "output_type": "display_data"
    },
    {
     "name": "stdout",
     "output_type": "stream",
     "text": [
      "teller:  30\n",
      "   0    1    2    3    4    5    6    7    8    9    ...  390  391  392  393  \\\n",
      "0  255  255  255  255  255  255  255  255  255  255  ...  255  255  255  255   \n",
      "\n",
      "   394  395  396  397  398  399  \n",
      "0  255  255  255  255  255  255  \n",
      "\n",
      "[1 rows x 400 columns]\n"
     ]
    },
    {
     "data": {
      "image/png": "[encoded data removed]",
      "text/plain": [
       "<Figure size 432x288 with 1 Axes>"
      ]
     },
     "metadata": {
      "needs_background": "light"
     },
     "output_type": "display_data"
    },
    {
     "name": "stdout",
     "output_type": "stream",
     "text": [
      "teller:  31\n",
      "   0    1    2    3    4    5    6    7    8    9    ...  390  391  392  393  \\\n",
      "0  255  255  255  255  255  255  255  255  255  255  ...  255  255  255  255   \n",
      "\n",
      "   394  395  396  397  398  399  \n",
      "0  255  255  255  255  255  255  \n",
      "\n",
      "[1 rows x 400 columns]\n"
     ]
    },
    {
     "data": {
      "image/png": "[encoded data removed]",
      "text/plain": [
       "<Figure size 432x288 with 1 Axes>"
      ]
     },
     "metadata": {
      "needs_background": "light"
     },
     "output_type": "display_data"
    },
    {
     "name": "stdout",
     "output_type": "stream",
     "text": [
      "teller:  32\n",
      "   0    1    2    3    4    5    6    7    8    9    ...  390  391  392  393  \\\n",
      "0  255  255  255  255  255  255  255  255  255  255  ...  255  255  255  255   \n",
      "\n",
      "   394  395  396  397  398  399  \n",
      "0  255  255  255  255  255  255  \n",
      "\n",
      "[1 rows x 400 columns]\n"
     ]
    },
    {
     "data": {
      "image/png": "[encoded data removed]",
      "text/plain": [
       "<Figure size 432x288 with 1 Axes>"
      ]
     },
     "metadata": {
      "needs_background": "light"
     },
     "output_type": "display_data"
    },
    {
     "name": "stdout",
     "output_type": "stream",
     "text": [
      "teller:  33\n",
      "   0    1    2    3    4    5    6    7    8    9    ...  390  391  392  393  \\\n",
      "0  255  255  255  255  255  255  255  255  255  255  ...  255  255  255  255   \n",
      "\n",
      "   394  395  396  397  398  399  \n",
      "0  255  255  255  255  255  255  \n",
      "\n",
      "[1 rows x 400 columns]\n"
     ]
    },
    {
     "data": {
      "image/png": "[encoded data removed]",
      "text/plain": [
       "<Figure size 432x288 with 1 Axes>"
      ]
     },
     "metadata": {
      "needs_background": "light"
     },
     "output_type": "display_data"
    },
    {
     "name": "stdout",
     "output_type": "stream",
     "text": [
      "teller:  34\n",
      "   0    1    2    3    4    5    6    7    8    9    ...  390  391  392  393  \\\n",
      "0  255  255  255  255  255  255  255  255  255  255  ...  255  255  255  255   \n",
      "\n",
      "   394  395  396  397  398  399  \n",
      "0  255  255  255  255  255  255  \n",
      "\n",
      "[1 rows x 400 columns]\n"
     ]
    },
    {
     "data": {
      "image/png": "[encoded data removed]",
      "text/plain": [
       "<Figure size 432x288 with 1 Axes>"
      ]
     },
     "metadata": {
      "needs_background": "light"
     },
     "output_type": "display_data"
    },
    {
     "name": "stdout",
     "output_type": "stream",
     "text": [
      "teller:  35\n",
      "   0    1    2    3    4    5    6    7    8    9    ...  390  391  392  393  \\\n",
      "0  255  255  255  255  255  255  255  255  255  255  ...  255  255  255  255   \n",
      "\n",
      "   394  395  396  397  398  399  \n",
      "0  255  255  255  255  255  255  \n",
      "\n",
      "[1 rows x 400 columns]\n"
     ]
    },
    {
     "data": {
      "image/png": "[encoded data removed]",
      "text/plain": [
       "<Figure size 432x288 with 1 Axes>"
      ]
     },
     "metadata": {
      "needs_background": "light"
     },
     "output_type": "display_data"
    }
   ],
   "source": [
    "\n",
    "teller = 0\n",
    "for win in windows:\n",
    "    print(\"teller: \", teller)\n",
    "    \n",
    "    print(win)\n",
    "    w = (win).values.tolist()[0]\n",
    "    w = np.reshape(w, (20, 20))\n",
    "    plt.imshow(w)\n",
    "    plt.show()\n",
    "    # print(w)\n",
    "    # print(w)\n",
    "    teller += 1\n"
   ]
  },
  {
   "cell_type": "code",
   "execution_count": 1085,
   "metadata": {},
   "outputs": [
    {
     "data": {
      "text/plain": [
       "True"
      ]
     },
     "execution_count": 1085,
     "metadata": {},
     "output_type": "execute_result"
    },
    {
     "data": {
      "image/png": "[encoded data removed]",
      "text/plain": [
       "<Figure size 432x288 with 1 Axes>"
      ]
     },
     "metadata": {
      "needs_background": "light"
     },
     "output_type": "display_data"
    }
   ],
   "source": [
    "### IKKE TA MED:\n",
    "\n",
    "\n",
    "import cv2\n",
    "img = cv2.imread(\"./detection-images/detection-2.jpg\", 0) \n",
    "cv2.threshold(img,0,255,cv2.THRESH_BINARY+cv2.THRESH_OTSU,img)\n",
    "\n",
    "contours, hier = cv2.findContours(img, cv2.RETR_EXTERNAL,cv2.CHAIN_APPROX_NONE)\n",
    "for c in contours:\n",
    "    # get the bounding rect\n",
    "    x, y, w, h = cv2.boundingRect(c)\n",
    "    # draw a white rectangle to visualize the bounding rect\n",
    "    cv2.rectangle(img, (x, y), (x + w, y + h), 255, 1)\n",
    "\n",
    "cv2.drawContours(img, contours, -1, (255, 255, 0), 1)\n",
    "plt.imshow(img)\n",
    "cv2.imwrite(\"output-2.png\",img)"
   ]
  }
 ],
 "metadata": {
  "kernelspec": {
   "display_name": "Python 3",
   "language": "python",
   "name": "python3"
  },
  "language_info": {
   "codemirror_mode": {
    "name": "ipython",
    "version": 3
   },
   "file_extension": ".py",
   "mimetype": "text/x-python",
   "name": "python",
   "nbconvert_exporter": "python",
   "pygments_lexer": "ipython3",
   "version": "3.7.2"
  }
 },
 "nbformat": 4,
 "nbformat_minor": 2
}
