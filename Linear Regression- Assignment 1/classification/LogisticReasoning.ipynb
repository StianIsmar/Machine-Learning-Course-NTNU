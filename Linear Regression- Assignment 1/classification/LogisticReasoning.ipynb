{
 "cells": [
  {
   "cell_type": "code",
   "execution_count": 6,
   "metadata": {},
   "outputs": [],
   "source": [
    "import matplotlib.pyplot as plt\n",
    "import numpy as np"
   ]
  },
  {
   "cell_type": "code",
   "execution_count": 15,
   "metadata": {},
   "outputs": [],
   "source": [
    "# Loading CSV:\n",
    "\n",
    "def loadCSV(filename):\n",
    "    data = np.loadtxt(filename, delimiter=',', skiprows=1, unpack=False)\n",
    "    xarray = data[...,0] # Need to get this on a matrix-form!\n",
    "    numOfColumns = data.shape[1]\n",
    "    Y = data[...,(numOfColumns-1)]\n",
    "    return data, xarray, Y\n",
    "    \n",
    "dataTrain, xarrayTrain, YTrain = loadCSV('cl_train_1.csv')\n",
    "dataTest, xarrayTest, YTest = loadCSV('cl_test_1.csv')"
   ]
  },
  {
   "cell_type": "code",
   "execution_count": 18,
   "metadata": {},
   "outputs": [],
   "source": [
    "# Place 1 in position 0 in each x-array in the matrix X:\n",
    "\n",
    "def addOnes(data,xArrayWithoutOnes):\n",
    "    X = np.ones((len(xArrayWithoutOnes), (data.shape[1])))\n",
    "    place = 0\n",
    "    \n",
    "    #1D\n",
    "    if data.shape[1] == 2:\n",
    "        for obs in xArrayWithoutOnes:\n",
    "            # Put one obs in each place in X\n",
    "            X[place,1] = obs\n",
    "            place+=1\n",
    "    #2D\n",
    "    if data.shape[1] == 3:\n",
    "        place = 0\n",
    "        for obs in data:\n",
    "            # Put one obs in each place in X\n",
    "            X[place,1]= obs[1]\n",
    "            X[place,2] = obs[2]\n",
    "            place+=1\n",
    "    return X\n",
    "\n",
    "XTrain = addOnes(dataTrain,xarrayTrain)\n",
    "XTest = addOnes(dataTest, xarrayTest)"
   ]
  },
  {
   "cell_type": "code",
   "execution_count": null,
   "metadata": {},
   "outputs": [],
   "source": []
  }
 ],
 "metadata": {
  "kernelspec": {
   "display_name": "Python 3",
   "language": "python",
   "name": "python3"
  },
  "language_info": {
   "codemirror_mode": {
    "name": "ipython",
    "version": 3
   },
   "file_extension": ".py",
   "mimetype": "text/x-python",
   "name": "python",
   "nbconvert_exporter": "python",
   "pygments_lexer": "ipython3",
   "version": "3.7.2"
  }
 },
 "nbformat": 4,
 "nbformat_minor": 2
}
