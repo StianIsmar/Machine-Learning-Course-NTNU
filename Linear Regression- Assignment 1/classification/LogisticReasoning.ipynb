{
 "cells": [
  {
   "cell_type": "code",
   "execution_count": 36,
   "metadata": {},
   "outputs": [],
   "source": [
    "import matplotlib.pyplot as plt\n",
    "import numpy as np\n",
    "import math"
   ]
  },
  {
   "cell_type": "code",
   "execution_count": 37,
   "metadata": {},
   "outputs": [],
   "source": [
    "# Loading CSV:\n",
    "\n",
    "def loadCSV(filename):\n",
    "    data = np.loadtxt(filename, delimiter=',', skiprows=1, unpack=False)\n",
    "    xarray = data[...,0] # Need to get this on a matrix-form!\n",
    "    numOfColumns = data.shape[1]\n",
    "    Y = data[...,(numOfColumns-1)]\n",
    "    return data, xarray, Y\n",
    "    \n",
    "dataTrain, xarrayTrain, YTrain = loadCSV('cl_train_1.csv')\n",
    "dataTest, xarrayTest, YTest = loadCSV('cl_test_1.csv')"
   ]
  },
  {
   "cell_type": "code",
   "execution_count": 39,
   "metadata": {},
   "outputs": [],
   "source": [
    "# Place 1 in position 0 in each x-array in the matrix X:\n",
    "\n",
    "def addOnes(data,xArrayWithoutOnes):\n",
    "    X = np.ones((len(xArrayWithoutOnes), (data.shape[1])))\n",
    "    place = 0\n",
    "    \n",
    "    #1D\n",
    "    if data.shape[1] == 2:\n",
    "        for obs in xArrayWithoutOnes:\n",
    "            # Put one obs in each place in X\n",
    "            X[place,1] = obs\n",
    "            place+=1\n",
    "    #2D\n",
    "    if data.shape[1] == 3:\n",
    "        place = 0\n",
    "        for obs in data:\n",
    "            # Put one obs in each place in X\n",
    "            X[place,1]= obs[1]\n",
    "            X[place,2] = obs[2]\n",
    "            place+=1\n",
    "    return X\n",
    "\n",
    "XTrain = addOnes(dataTrain,xarrayTrain)\n",
    "XTest = addOnes(dataTest, xarrayTest)"
   ]
  },
  {
   "cell_type": "code",
   "execution_count": 59,
   "metadata": {},
   "outputs": [],
   "source": [
    "# Logistic Regression with Gradient descent. Defining functions:\n",
    "\n",
    "# z = h(x)\n",
    "def linearSignal(w, x):\n",
    "    return (w.T).dot(x)\n",
    "\n",
    "# Sigma, the sigmoid function. Returns a number between 0 and 1. \n",
    "def logistic(z):\n",
    "    return ( 1 / (1 + math.exp(-z)))\n",
    "    \n",
    "# Returns a probability that the datapoint (1,x1,x2) is in y.\n",
    "def prob(w,x,y):\n",
    "    z = linearSignal(w,x)\n",
    "    probability = (logistic(z)**y)*(1 - logistic(z))**(1-y)\n",
    "    return probability"
   ]
  },
  {
   "cell_type": "code",
   "execution_count": 70,
   "metadata": {},
   "outputs": [
    {
     "name": "stdout",
     "output_type": "stream",
     "text": [
      "[13.83371385 13.83371385 13.83371385]\n"
     ]
    }
   ],
   "source": [
    "# Gradient descent:\n",
    "\n",
    "def gradientDescent(X,Y,LR,weights,iterations):\n",
    "    it = 0\n",
    "    while it <= iterations:\n",
    "        \n",
    "        place = 0\n",
    "        summ = 0\n",
    "        \n",
    "        for x in X:\n",
    "\n",
    "            summ = summ + (logistic(linearSignal(weights,x)) - Y[place])\n",
    "            place+=1\n",
    "            \n",
    "        weights = weights - (LR*summ)\n",
    "        it+=1\n",
    "    return weights\n",
    "\n",
    "\n",
    "initWeights = np.array([0.2, 0.2,0.2])\n",
    "# Set weights and learning rate in the range -0.5 to 0.5:\n",
    "trained_Weights = gradientDescent(XTrain,YTrain, 0.5,initWeights, 1000)\n",
    "\n",
    "print(trained_Weights)"
   ]
  },
  {
   "cell_type": "code",
   "execution_count": null,
   "metadata": {},
   "outputs": [],
   "source": [
    "# Calculating the cross-entropy error on the training and the test-set:\n",
    "\n"
   ]
  }
 ],
 "metadata": {
  "kernelspec": {
   "display_name": "Python 3",
   "language": "python",
   "name": "python3"
  },
  "language_info": {
   "codemirror_mode": {
    "name": "ipython",
    "version": 3
   },
   "file_extension": ".py",
   "mimetype": "text/x-python",
   "name": "python",
   "nbconvert_exporter": "python",
   "pygments_lexer": "ipython3",
   "version": "3.7.2"
  }
 },
 "nbformat": 4,
 "nbformat_minor": 2
}
