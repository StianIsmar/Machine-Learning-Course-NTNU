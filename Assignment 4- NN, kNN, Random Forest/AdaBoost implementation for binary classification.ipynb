{
 "cells": [
  {
   "cell_type": "code",
   "execution_count": 21,
   "metadata": {},
   "outputs": [],
   "source": [
    "# https://www.youtube.com/watch?v=LsK-xG1cLYA\n",
    "# https://i.stack.imgur.com/CTpi9.png\n",
    "from sklearn import tree\n",
    "import pandas as pd\n",
    "import numpy as np\n",
    "import math\n",
    "from sklearn.metrics import confusion_matrix\n",
    "import matplotlib.pyplot as plt\n",
    "\n"
   ]
  },
  {
   "cell_type": "code",
   "execution_count": 22,
   "metadata": {},
   "outputs": [],
   "source": [
    "df = pd.read_csv(\"./dataset(3)/adaboost_train.csv\")\n",
    "df_test = pd.read_csv(\"./dataset(3)/adaboost_test.csv\")\n",
    "\n",
    "X_train = df.loc[:,'x1':'x10']\n",
    "Y_train = df[['y']]\n",
    "\n",
    "x_test = df_test.loc[:,'x1':'x10']\n",
    "y_test = df_test[['y']]\n"
   ]
  },
  {
   "cell_type": "code",
   "execution_count": 37,
   "metadata": {},
   "outputs": [],
   "source": [
    "def adaBoost(X_train,Y_train, clf,iterations):\n",
    "    classifiers = []\n",
    "    # initializing the weights:\n",
    "    N = len(Y_train)\n",
    "    w_i = [1 / N] * N\n",
    "\n",
    "    T = iterations\n",
    "    clf_errors = []\n",
    "\n",
    "    for t in range(T):  \n",
    "        print(\"Iteration started:\", t)\n",
    "        clf.fit(X_train, Y_train, sample_weight = w_i)\n",
    "        \n",
    "        #Predict all the values:\n",
    "        y_pred = clf.predict(X_train)   \n",
    "            \n",
    "        error_internal = calc_error(w_i,Y_train,y_pred)\n",
    "        \n",
    "        alpha = np.log((1-error_internal)/ error_internal)\n",
    "        \n",
    "        # Add the predictions and alpha for later use for every iteration\n",
    "        classifiers.append((y_pred, alpha))\n",
    "                \n",
    "        w_i = update_weights(w_i,y_pred,Y_train,alpha,clf)\n",
    "        \n",
    "    # Output the final prediction:\n",
    "    G, prev_preds = output(classifiers, X_train)\n",
    "    return G, prev_preds\n",
    "\n",
    "    \n",
    "def output1(clfs, X_train):\n",
    "    s = np.zeros(len(X_train))\n",
    "    i = 0\n",
    "    for (y_pred, alpha) in clfs:\n",
    "        s += alpha*y_pred\n",
    "        i += 1\n",
    "    return np.sign(s)\n",
    "\n",
    "# New one:\n",
    "def output(clfs, X_train):\n",
    "    res_pred_it = []\n",
    "    s = np.zeros(len(X_train))\n",
    "    i = 0\n",
    "    for (y_pred, alpha) in clfs:\n",
    "        s += alpha*y_pred\n",
    "        res_pred_it.append(np.sign(s))\n",
    "        i+=1\n",
    "    return np.sign(s), res_pred_it\n",
    "\n",
    "\n",
    "def calc_error(weights,Y_train,y_pred):\n",
    "    err = 0\n",
    "    for i in range(len(weights)):\n",
    "        if y_pred[i] != Y_train['y'].iloc[i]:\n",
    "            err= err + weights[i]\n",
    "    # Normalizing the error:\n",
    "    err = err/np.sum(weights)\n",
    "    return err\n",
    "\n",
    "# If the prediction is true, return 0. If it is not true, return 1.\n",
    "def check_pred(y_p, y_t):\n",
    "    if y_p == y_t:\n",
    "        return 0\n",
    "    else:\n",
    "        return 1\n",
    "    \n",
    "def update_weights(w,y_pred,Y_train,alpha,clf):\n",
    "    for j in range(len(w)):\n",
    "        if y_pred[j] != Y_train['y'].iloc[j]:\n",
    "            w[j] = w[j]* (np.exp( alpha * 1))\n",
    "    return w\n",
    "          \n",
    "def calculate_error_clf(y_pred, y):\n",
    "    sum_error = 0\n",
    "    for i in range(len(y)):\n",
    "        if y_pred[i] != y.iloc[i]['y']:\n",
    "            sum_error += 1\n",
    "        e = (y_pred[i] - y.iloc[i]['y'])**2\n",
    "        \n",
    "        \n",
    "        #sum_error += e\n",
    "    # normalizing:\n",
    "    sum_error = sum_error\n",
    "    return sum_error"
   ]
  },
  {
   "cell_type": "code",
   "execution_count": null,
   "metadata": {
    "scrolled": false
   },
   "outputs": [
    {
     "name": "stdout",
     "output_type": "stream",
     "text": [
      " \n",
      "Iteration started: 0\n",
      "Iteration started: 1\n",
      "Iteration started: 2\n",
      "Iteration started: 3\n",
      "Iteration started: 4\n",
      "Iteration started: 5\n",
      "Iteration started: 6\n",
      "Iteration started: 7\n",
      "Iteration started: 8\n",
      "Iteration started: 9\n",
      "[4444.    0.    0.    0.    0.    0.    0.    0.    0.    0.]\n",
      "[4444. 4444.    0.    0.    0.    0.    0.    0.    0.    0.]\n",
      "[4444. 4444. 4019.    0.    0.    0.    0.    0.    0.    0.]\n",
      "[4444. 4444. 4019. 4019.    0.    0.    0.    0.    0.    0.]\n",
      "[4444. 4444. 4019. 4019. 3675.    0.    0.    0.    0.    0.]\n"
     ]
    }
   ],
   "source": [
    "\n",
    "weak_clf = tree.DecisionTreeClassifier(max_depth = 1)\n",
    "# c = adaBoost(X_train, Y_train,weak_clf,1)\n",
    "\n",
    "def find_iteration_errors(it, X,Y_train):\n",
    "    errors = np.zeros(it)\n",
    "\n",
    "    print(\" \")\n",
    "    final_pred, prev_preds = adaBoost(X_train, Y_train,weak_clf,it)\n",
    "    i=0\n",
    "    for pred in prev_preds:\n",
    "        errors[i] = calculate_error_clf(pred, Y_train)\n",
    "        i+=1\n",
    "        print(errors)\n",
    "    x_vals = list(range(1,it+1))\n",
    "    plt.plot(x_vals,errors)    \n",
    "    return 1\n",
    "        \n",
    "\n",
    "error_res = find_iteration_errors(10,X_train,Y_train)\n",
    "\n",
    "print(\" \")\n",
    "print(error_res)"
   ]
  },
  {
   "cell_type": "code",
   "execution_count": 99,
   "metadata": {
    "scrolled": true
   },
   "outputs": [
    {
     "ename": "SyntaxError",
     "evalue": "invalid syntax (<ipython-input-99-e4f123592c4d>, line 1)",
     "output_type": "error",
     "traceback": [
      "\u001b[0;36m  File \u001b[0;32m\"<ipython-input-99-e4f123592c4d>\"\u001b[0;36m, line \u001b[0;32m1\u001b[0m\n\u001b[0;31m    a = [  1.07416667   1.15221122   1.26750073   1.36771538   1.48236743\u001b[0m\n\u001b[0m                                 ^\u001b[0m\n\u001b[0;31mSyntaxError\u001b[0m\u001b[0;31m:\u001b[0m invalid syntax\n"
     ]
    }
   ],
   "source": [
    "a = [  1.07416667   1.15221122   1.26750073   1.36771538   1.48236743\n",
    "   1.58988907   1.71119507   1.8270263    1.99026647   2.14015368\n",
    "   2.3348519    2.51272268   2.75908171   2.97828053   3.27060058\n",
    "   3.53023338   3.76670674   3.99704108   4.27788256   4.5495414\n",
    "   4.93506701   5.29289851   5.79017099   6.23834557   6.67363875\n",
    "   7.09434691   7.72648934   8.29927296   9.09138937   9.78182226\n",
    "  10.72470895  11.54339744  12.36975779  13.16551895  14.10476381\n",
    "  15.00677706  16.23821602  17.38139213  18.70497891  19.94586914\n",
    "  21.75535205  23.3540812   25.13934856  26.80759423  28.69769378\n",
    "  30.49131412  33.14177918  35.50844746  38.19825555  40.71155195\n",
    "  44.06033217  47.10567442  51.52476383  55.25651025  58.67638797\n",
    "  61.98180932  65.63103277  69.18083788  74.23875745  78.96365097\n",
    "  85.73631986  91.71727522  97.79981657 103.59674021 109.85807466\n",
    " 115.89414937 122.90792113 129.66669215 136.90227918 143.94316645\n",
    " 153.12727021 161.87938238 171.18662168 180.18191721 190.31974746\n",
    " 200.14045327 216.51019633 230.9360824  247.52801389 262.80507311\n",
    " 277.97670703 292.5953711  308.69230008 324.31681619 348.93585357\n",
    " 371.21135875 399.10824474 424.31911024 444.81477697 464.98234178\n",
    " 489.3903222  513.17904405 536.94524912 562.74096628 608.63369284\n",
    " 635.16203193 661.40960691 696.81297728 731.12258153 769.79711472]"
   ]
  },
  {
   "cell_type": "code",
   "execution_count": null,
   "metadata": {},
   "outputs": [],
   "source": [
    "print(np.exp(1))"
   ]
  },
  {
   "cell_type": "code",
   "execution_count": null,
   "metadata": {},
   "outputs": [],
   "source": [
    "# def update_weights(w,X_train,Y_train,alpha,clf):\n",
    "  #   for j in range(len(w)):\n",
    "  #      w[j] = w[j] * np.exp(alpha*check_pred(classifier, X_train[j], Y_train['y'].iloc[j]))\n",
    "  #   return 1"
   ]
  },
  {
   "cell_type": "code",
   "execution_count": null,
   "metadata": {},
   "outputs": [],
   "source": [
    "# Creating G(x):\n",
    "    # result = 0\n",
    "    # for c in classifiers:\n",
    "        # result += c[2]* c[0](x)\n",
    "    # res = np.sign(res)"
   ]
  }
 ],
 "metadata": {
  "kernelspec": {
   "display_name": "Python 3",
   "language": "python",
   "name": "python3"
  },
  "language_info": {
   "codemirror_mode": {
    "name": "ipython",
    "version": 3
   },
   "file_extension": ".py",
   "mimetype": "text/x-python",
   "name": "python",
   "nbconvert_exporter": "python",
   "pygments_lexer": "ipython3",
   "version": "3.7.2"
  }
 },
 "nbformat": 4,
 "nbformat_minor": 2
}
