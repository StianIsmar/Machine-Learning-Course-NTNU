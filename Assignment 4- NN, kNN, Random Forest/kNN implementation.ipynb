{
 "cells": [
  {
   "cell_type": "markdown",
   "metadata": {},
   "source": [
    "# kNN implementation, classification and regression"
   ]
  },
  {
   "cell_type": "code",
   "execution_count": 90,
   "metadata": {},
   "outputs": [],
   "source": [
    "# Implement k-nearest neightbour. \n",
    "# Reuse the program to implement kNN regression (based on a simple mean) and classification (voting)\n",
    "# https://hlab.stanford.edu/brian/euclidean_distance_in.html\n",
    "# https://www.researchgate.net/figure/Pseudocode-for-KNN-classification_fig7_260397165\n",
    "    \n",
    "\n",
    "import pandas as pd\n",
    "import numpy as np\n",
    "import bisect"
   ]
  },
  {
   "cell_type": "code",
   "execution_count": 91,
   "metadata": {},
   "outputs": [],
   "source": [
    "def load_csv(path):\n",
    "    df1 = pd.read_csv(path)\n",
    "    return df1\n",
    "\n"
   ]
  },
  {
   "cell_type": "code",
   "execution_count": 92,
   "metadata": {},
   "outputs": [],
   "source": [
    "# Returns the euclidean distance sum in n-dimentional space:\n",
    "def findDistance(p1,p2):\n",
    "    euclid_dist_sum = 0\n",
    "    for i in range(len(p1)):\n",
    "        euclid_dist_sum += (p1[i] - p2[i])**2\n",
    "    return euclid_dist_sum"
   ]
  },
  {
   "cell_type": "markdown",
   "metadata": {},
   "source": [
    "## General implementation of kNN:"
   ]
  },
  {
   "cell_type": "code",
   "execution_count": 93,
   "metadata": {},
   "outputs": [],
   "source": [
    "# kNN implementation, \n",
    "# Xin is the training data, \n",
    "# Yin is the class labels (supervised)\n",
    "# x is the unknown sample \n",
    "def find_K_neighbours(Xin,Yin,x):\n",
    "    k = 10 # from the assignment\n",
    "    # The closes neighbours to the left in asc_neig:\n",
    "    asc_neig = []\n",
    "    for rownum, train_point in Xin.iterrows():\n",
    "        # Calculate the distance to the sample x and insert it into a sorted list:\n",
    "        bisect.insort(asc_neig, (findDistance(train_point, x),Yin[rownum]))\n",
    "    # Slicing the list from element 0 to element k:\n",
    "    \n",
    "    # Removing the closest one, which is the actual point from the training data:\n",
    "    asc_neig = asc_neig[1:]\n",
    "\n",
    "    return asc_neig[0:(k)]"
   ]
  },
  {
   "cell_type": "markdown",
   "metadata": {},
   "source": [
    "### Classification problem, solved with voting: "
   ]
  },
  {
   "cell_type": "code",
   "execution_count": 101,
   "metadata": {},
   "outputs": [
    {
     "name": "stdout",
     "output_type": "stream",
     "text": [
      "The datapoint is in the class:  2\n",
      "The ten closest neighbours for the classification problem are:\n",
      "0.0321\n",
      "0.0581\n",
      "0.1301\n",
      "0.1301\n",
      "0.1361\n",
      "0.1661\n",
      "0.1721\n",
      "0.1921\n",
      "0.2361\n",
      "0.2541\n"
     ]
    }
   ],
   "source": [
    "df_class = load_csv(\"./dataset(3)/knn_classification.csv\")\n",
    "Y_class = list(df_class.y)\n",
    "X_class = df_class.loc[:,'x1':'x4']\n",
    "\n",
    "knn_classification_problem = find_K_neighbours(X_class,Y_class,[6.3, 2.7, 4.91, 1.8])\n",
    "\n",
    "# Voting:\n",
    "# Making a list with the different target values we have seen in the training data:\n",
    "distinct_vals_Y = []\n",
    "for y in Y_class:\n",
    "    if y not in distinct_vals_Y:\n",
    "        distinct_vals_Y.append(y)\n",
    "\n",
    "# Count the values\n",
    "\n",
    "def count_votes():\n",
    "    votes = [0 for x in range(len(distinct_vals_Y))]\n",
    "    for i in range(len(votes)):\n",
    "        for n in knn_classification_problem:\n",
    "            if (n[1] == i):\n",
    "                votes[i]+=1\n",
    "    return votes.index(max(votes))\n",
    "\n",
    "\n",
    "classifier_result = count_votes()\n",
    "\n",
    "print(\"The datapoint is in the class: \", classifier_result)\n",
    "print(\"The ten closest neighbours for the classification problem are:\")\n",
    "\n",
    "for elem in knn_classification_problem:\n",
    "    print(round(elem[0],4))\n"
   ]
  },
  {
   "cell_type": "markdown",
   "metadata": {},
   "source": [
    "### Regression problem, solved with mean: "
   ]
  },
  {
   "cell_type": "code",
   "execution_count": 103,
   "metadata": {},
   "outputs": [
    {
     "name": "stdout",
     "output_type": "stream",
     "text": [
      "The mean value for the regression problem is the following: 1.6099999999999999\n",
      "The ten closest neighbours for the regression problem are:\n",
      "0.0321\n",
      "0.0401\n",
      "0.0461\n",
      "0.0481\n",
      "0.0941\n",
      "0.1241\n",
      "0.1261\n",
      "0.1301\n",
      "0.1461\n",
      "0.1621\n"
     ]
    }
   ],
   "source": [
    "# Loading the data for the regression problem:\n",
    "df_reg = load_csv(\"./dataset(3)/knn_regression.csv\")\n",
    "Y_reg = list(df_reg.y)\n",
    "X_reg = df_reg.loc[:,'x1':'x3']\n",
    "\n",
    "knn_regression_problem = find_K_neighbours(X_reg,Y_reg,[6.3, 2.7, 4.91])\n",
    "\n",
    "def sample_mean_value(ten_closest_neighbours):\n",
    "    sum = 0\n",
    "    for elem in ten_closest_neighbours:\n",
    "        sum += elem[1]\n",
    "    return sum/len(ten_closest_neighbours)\n",
    "\n",
    "res_reg = sample_mean_value(knn_regression_problem)\n",
    "print(\"The mean value for the regression problem is the following:\", res_reg)\n",
    "\n",
    "print(\"The ten closest neighbours for the regression problem are:\")\n",
    "for elem in knn_regression_problem:\n",
    "    print(round(elem[0],4))\n",
    "\n"
   ]
  },
  {
   "cell_type": "code",
   "execution_count": null,
   "metadata": {},
   "outputs": [],
   "source": []
  },
  {
   "cell_type": "code",
   "execution_count": null,
   "metadata": {},
   "outputs": [],
   "source": []
  }
 ],
 "metadata": {
  "kernelspec": {
   "display_name": "Python 3",
   "language": "python",
   "name": "python3"
  },
  "language_info": {
   "codemirror_mode": {
    "name": "ipython",
    "version": 3
   },
   "file_extension": ".py",
   "mimetype": "text/x-python",
   "name": "python",
   "nbconvert_exporter": "python",
   "pygments_lexer": "ipython3",
   "version": "3.7.2"
  }
 },
 "nbformat": 4,
 "nbformat_minor": 2
}
