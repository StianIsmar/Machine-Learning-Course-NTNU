{
 "cells": [
  {
   "cell_type": "markdown",
   "metadata": {},
   "source": [
    "# 1 Theory\n",
    "## 1.1\n",
    "\n",
    "The difference between shallow and deep learning is the number of hidden layers in the neural network. In shallow learing, there is only one hidden layer. An example of such a network could be the network that solves the XOR problem. This non-linear problem is not solved by the use of a single neuron.\n",
    "\n",
    "Neural networks with only one hidden layer will have a low accuracy for solving complex classification problems. An example here can be the classification of images. For these types of problems, multi-layered problems with 1 or more layers could be more suitable. Networks like these are called deep neural networks.\n",
    "\n",
    "Deep neural networks use lower-level feaures to be able to for example classify images. This could be images of cats and dogs, where multiple feaures would be evaluated to get a good classification accuracy.\n",
    "\n",
    "\n",
    "\n",
    "\n",
    "\n",
    "## 1.2\n",
    "## 1.3\n"
   ]
  },
  {
   "cell_type": "code",
   "execution_count": null,
   "metadata": {},
   "outputs": [],
   "source": []
  }
 ],
 "metadata": {
  "kernelspec": {
   "display_name": "Python 3",
   "language": "python",
   "name": "python3"
  },
  "language_info": {
   "codemirror_mode": {
    "name": "ipython",
    "version": 3
   },
   "file_extension": ".py",
   "mimetype": "text/x-python",
   "name": "python",
   "nbconvert_exporter": "python",
   "pygments_lexer": "ipython3",
   "version": "3.7.2"
  }
 },
 "nbformat": 4,
 "nbformat_minor": 2
}
