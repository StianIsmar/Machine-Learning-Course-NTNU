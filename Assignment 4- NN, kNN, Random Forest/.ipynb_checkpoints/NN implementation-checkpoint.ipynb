{
 "cells": [
  {
   "cell_type": "code",
   "execution_count": 24,
   "metadata": {},
   "outputs": [],
   "source": [
    "import numpy as np\n",
    "# https://www.youtube.com/watch?v=QJoa0JYaX1I 16:20"
   ]
  },
  {
   "cell_type": "code",
   "execution_count": 60,
   "metadata": {},
   "outputs": [
    {
     "name": "stdout",
     "output_type": "stream",
     "text": [
      "[[0.39827838 0.9195037 ]]\n",
      "self.sigmoid(hidden)\n",
      "[[0.74225653]\n",
      " [0.84900306]]\n",
      " \n",
      "untrained\n",
      "[[0.88035433]]\n",
      "targets:\n",
      "[1]\n",
      "error\n",
      "[[0.11964567]]\n",
      "[[0.65945176 0.17977269]\n",
      " [0.80729954 0.49840914]]\n"
     ]
    }
   ],
   "source": [
    "## Need to generalize it for n layers! it is generalized for n nodes in the 3 layers.\n",
    "class nn:\n",
    "    input_nodes = 0\n",
    "    hidden_nodes = 0\n",
    "    output_nodes = 0\n",
    "    \n",
    "    def __init__(self, input_nodes, hidden_nodes, output_nodes):\n",
    "        self.input_nodes = input_nodes # The number of features!\n",
    "        self.hidden_nodes = hidden_nodes\n",
    "        self.output_nodes = output_nodes\n",
    "\n",
    "        self.weights_ih = np.random.rand(self.hidden_nodes, self.input_nodes)\n",
    "        self.weights_ho = np.random.rand(self.output_nodes, self.hidden_nodes)\n",
    "        print(self.weights_ho)\n",
    "\n",
    "        self.bias_h = np.empty([self.hidden_nodes, 1])\n",
    "        self.bias_o = np.empty([self.output_nodes, 1])\n",
    "\n",
    "    def sigmoid(self,x):\n",
    "        res = 1 / (1 + np.exp(-x))\n",
    "        return res\n",
    "    \n",
    "    def feedforward(self, input_sample):\n",
    "        \n",
    "        # Generating the hidden outputs:\n",
    "        hidden = np.matrix(np.dot(self.weights_ih, input_sample)).T\n",
    "        hidden = np.add(hidden,self.bias_h)\n",
    "        print(\"self.sigmoid(hidden)\")\n",
    "        print(self.sigmoid(hidden))\n",
    "\n",
    "        sig = lambda t: self.sigmoid(t)\n",
    "        \n",
    "        # Generate the output using the activation function:\n",
    "        output_hidden_layer = sig(hidden)\n",
    "        \n",
    "        # Now, generate the output for the output layer!\n",
    "        output = np.matrix(np.dot(self.weights_ho, output_hidden_layer )).T\n",
    "        output = np.add(output,self.bias_o)\n",
    "\n",
    "        sig = lambda t: self.sigmoid(t)\n",
    "        output_output_layer = sig(output)\n",
    "\n",
    "        return output_output_layer\n",
    "\n",
    "    def backprop():\n",
    "        # Implement here ....\n",
    "        print(\" \")\n",
    "    \n",
    "    def train(self, inputs, targets):\n",
    "        outputs = self.feedforward(inputs)\n",
    "        outputs = np.asmatrix(outputs)\n",
    "        output_error = np.subtract(targets,outputs)\n",
    "        return outputs, targets, output_error\n",
    "        \n",
    "        \n",
    "n1 = nn(2,2,1)\n",
    "untrained, targets, output_error = n1.train([1,0],[1])\n",
    "\n",
    "print(\" \")\n",
    "print(\"untrained\")\n",
    "print(untrained)\n",
    "print(\"targets:\")\n",
    "print(targets)\n",
    "print(\"error\")\n",
    "print(error)\n",
    "\n",
    "# Store the weights in a matrix:"
   ]
  },
  {
   "cell_type": "code",
   "execution_count": null,
   "metadata": {},
   "outputs": [],
   "source": []
  },
  {
   "cell_type": "code",
   "execution_count": null,
   "metadata": {},
   "outputs": [],
   "source": []
  }
 ],
 "metadata": {
  "kernelspec": {
   "display_name": "Python 3",
   "language": "python",
   "name": "python3"
  },
  "language_info": {
   "codemirror_mode": {
    "name": "ipython",
    "version": 3
   },
   "file_extension": ".py",
   "mimetype": "text/x-python",
   "name": "python",
   "nbconvert_exporter": "python",
   "pygments_lexer": "ipython3",
   "version": "3.7.2"
  }
 },
 "nbformat": 4,
 "nbformat_minor": 2
}
