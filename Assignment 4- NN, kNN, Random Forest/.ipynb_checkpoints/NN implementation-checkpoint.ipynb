{
 "cells": [
  {
   "cell_type": "code",
   "execution_count": 33,
   "metadata": {},
   "outputs": [],
   "source": [
    "import numpy as np\n",
    "import pandas as pd\n",
    "from random import *\n",
    "import random\n",
    "import decimal\n",
    "import matplotlib.pyplot as plt\n",
    "import time\n",
    "import math\n",
    "\n",
    "\n",
    "# https://www.youtube.com/watch?v=QJoa0JYaX1I 16:20"
   ]
  },
  {
   "cell_type": "code",
   "execution_count": 15,
   "metadata": {},
   "outputs": [
    {
     "name": "stdout",
     "output_type": "stream",
     "text": [
      "   0  0.1  0.2\n",
      "0  1    1    0\n",
      "1  0    1    1\n",
      "2  1    0    1\n",
      "3  0    0    0\n",
      " \n"
     ]
    }
   ],
   "source": [
    "df = pd.read_csv(\"xOR_problem.csv\").loc[:,'0':'0.2']\n",
    "X_train = df.loc[:,'0':'0.1']\n",
    "Y_train = df.loc[:,'0.2']"
   ]
  },
  {
   "cell_type": "code",
   "execution_count": 47,
   "metadata": {},
   "outputs": [
    {
     "name": "stdout",
     "output_type": "stream",
     "text": [
      "[0, 1, 1, 0]\n",
      "[[1, 1], [0, 1], [1, 0], [0, 0]]\n",
      "99 % <-- Percent Completion:\r"
     ]
    },
    {
     "data": {
      "image/png": "[encoded data removed]",
      "text/plain": [
       "<Figure size 432x288 with 1 Axes>"
      ]
     },
     "metadata": {
      "needs_background": "light"
     },
     "output_type": "display_data"
    }
   ],
   "source": [
    "## Need to generalize it for n layers! it is generalized for n nodes in the 3 layers.\n",
    "class nn:\n",
    "    # input_nodes = 0\n",
    "    # hidden_nodes = 0\n",
    "    # output_nodes = 0\n",
    "    \n",
    "    def __init__(self, input_nodes, hidden_nodes, output_nodes):\n",
    "        self.input_nodes = input_nodes # The number of features!\n",
    "        self.hidden_nodes = hidden_nodes\n",
    "        self.output_nodes = output_nodes\n",
    "\n",
    "        self.weights_ih = np.random.randn(self.hidden_nodes,self.input_nodes )#2x2\n",
    "        self.weights_ho = np.random.randn(self.output_nodes, self.hidden_nodes)#1x2\n",
    "        self.bias_h = np.zeros([self.hidden_nodes, 1])#2x1\n",
    "        self.bias_o = np.zeros([self.output_nodes, 1])#1x1\n",
    "        self.learning_rate = 0.05\n",
    "\n",
    "    def sigmoid(self,x):\n",
    "        res = 1 / (1 + np.exp(-x))\n",
    "        return res\n",
    "    \n",
    "    def feedforward(self, input_sample):\n",
    "        # Generating the hidden outputs: input_sample: 1x2              \n",
    "        input_sample_T = np.asmatrix(input_sample).T\n",
    "\n",
    "        hidden = np.matrix(np.dot(self.weights_ih, input_sample_T))\n",
    "        hidden = np.add(hidden,self.bias_h)\n",
    "        sig = lambda t: self.sigmoid(t)\n",
    "        hidden = sig(hidden)\n",
    "        \n",
    "        # Now, generate the output for the output layer:\n",
    "        outputs = np.matrix(np.dot(self.weights_ho, hidden ))\n",
    "        outputs = np.add(outputs,self.bias_o)\n",
    "        sig = lambda t: self.sigmoid(t)\n",
    "        outputs = sig(outputs)\n",
    "        output_outputs = np.asmatrix(outputs)\n",
    "\n",
    "        return hidden, output_outputs\n",
    "    \n",
    "    def train(self, input_sample, targets):\n",
    "        targets = np.asmatrix(targets).T\n",
    "        \n",
    "        hidden, outputs =  self.feedforward(input_sample)\n",
    "    \n",
    "        # Calculate the errors from the output layer:\n",
    "        # ERROR = Targets - ypred\n",
    "        output_errors = (np.subtract(targets,outputs))\n",
    "    \n",
    "        # Calculate gradient\n",
    "        # gradient = outputs*(1 - outputs)\n",
    "        desig = lambda t: self.desigmoid(t)\n",
    "        gradients = desig(np.asmatrix(outputs))\n",
    "        gradients = np.multiply(gradients, output_errors)\n",
    "        gradients = np.multiply(gradients, self.learning_rate)\n",
    "        \n",
    "        # Calculate deltas\n",
    "        hidden_T = hidden.T\n",
    "        weight_deltas_ho = np.dot(gradients, hidden_T)\n",
    "        \n",
    "        # Adjust the weights by the deltas\n",
    "        self.weights_ho = np.add(self.weights_ho,weight_deltas_ho)\n",
    " \n",
    "        # Adjust the bias by it's deltas:\n",
    "        self.bias_o = np.add(self.bias_o,gradients)        \n",
    " \n",
    "        # Calculate the error from the hidden node:\n",
    "        hidden_errors = np.dot(self.weights_ho.T,output_errors)\n",
    "        \n",
    "        # Calculate the gradient for the hidden layer:\n",
    "        hidden_gradient = desig(np.asmatrix(hidden))\n",
    "        hidden_gradient = np.multiply(hidden_gradient, hidden_errors)\n",
    "        hidden_gradient = np.multiply(hidden_gradient, self.learning_rate)\n",
    "        \n",
    "        # Calculate change of weight for input -> hidden (deltas):\n",
    "        input_sample_T = np.matrix(input_sample).T\n",
    "        weight_ih_deltas = np.dot(hidden_gradient, input_sample_T.T)\n",
    "        \n",
    "        # Update the input -> Hidden weights:\n",
    "        self.weights_ih = np.add(self.weights_ih, weight_ih_deltas)\n",
    "        \n",
    "        # Adjust the bias by it's deltas:\n",
    "        self.bias_h = np.add(self.bias_h,hidden_gradient)\n",
    "        \n",
    "        return output_errors\n",
    "        \n",
    "    def desigmoid(self, y):\n",
    "        res = np.multiply(y,(1-y))\n",
    "        return res\n",
    "    def tanh(self,y ):\n",
    "        return np.tanh(y)\n",
    "    \n",
    "    def inv_tanh(self,y):\n",
    "        return (1 - (np.square(y)))\n",
    "\n",
    "    \n",
    "    def randomize_weight_matrix(self, rows, cols):\n",
    "        rand_matrix = np.zeros((rows,cols))\n",
    "        for i in range(rand_matrix.shape[0]):\n",
    "            for j in range(rand_matrix.shape[1]):\n",
    "                rand_matrix[i,j] = random.randint(-100, 101)/100\n",
    "        return rand_matrix\n",
    "\n",
    "# ********* Main ***********\n",
    "# The number of nodes in the neural net:\n",
    "\n",
    "n1 = nn(2,2,1)\n",
    "matrix_x = [[]] * 4\n",
    "list_y = []\n",
    "j=0\n",
    "for row in df.iterrows():\n",
    "    index, data = row\n",
    "    data = data.tolist()\n",
    "    y_train = [data.pop(2)]\n",
    "    x_train = data\n",
    "    matrix_x[j] = x_train\n",
    "    list_y.append(y_train[0])\n",
    "    j+=1\n",
    "errors =[]\n",
    "\n",
    "def randomize_train(x,y,it):\n",
    "    print(\"   % <-- Percent Completion:\", end='\\r')\n",
    "    for i in range(it):\n",
    "        print(math.floor(100*(i/it)), end=\"\\r\")\n",
    "        rand = 1\n",
    "        rand = randint(0, 3)\n",
    "        err = (n1.train(x[rand], y[rand]))\n",
    "        err = np.array(err)[0][0]\n",
    "        errors.append(err**2)\n",
    "                \n",
    "    x_points = list(range(0, it))\n",
    "    plt.plot(x_points,errors)\n",
    "    plt.show()\n",
    "\n",
    "        \n",
    "randomize_train(matrix_x, list_y, 50000)"
   ]
  },
  {
   "cell_type": "code",
   "execution_count": 48,
   "metadata": {},
   "outputs": [
    {
     "name": "stdout",
     "output_type": "stream",
     "text": [
      "[[0.05355266]] [0]\n",
      "[[0.05568964]] [0]\n",
      "[[0.95112685]] [1]\n",
      "[[0.95091408]] [1]\n"
     ]
    }
   ],
   "source": [
    "h, o = n1.feedforward([1,1])\n",
    "print(o, \"[0]\")\n",
    "\n",
    "h, o = n1.feedforward([0,0])\n",
    "print(o, \"[0]\") \n",
    "\n",
    "h, o = n1.feedforward([0,1])\n",
    "print(o, \"[1]\") \n",
    "\n",
    "h, o = n1.feedforward([1,0])\n",
    "print(o, \"[1]\") \n"
   ]
  },
  {
   "cell_type": "code",
   "execution_count": null,
   "metadata": {},
   "outputs": [],
   "source": [
    "        \n",
    "# Printing animation:\n",
    "# b = \"Loading\" + \".\" * i\n",
    "# print (b, end=\"\\r\")\n",
    "# time.sleep(1)"
   ]
  }
 ],
 "metadata": {
  "kernelspec": {
   "display_name": "Python 3",
   "language": "python",
   "name": "python3"
  },
  "language_info": {
   "codemirror_mode": {
    "name": "ipython",
    "version": 3
   },
   "file_extension": ".py",
   "mimetype": "text/x-python",
   "name": "python",
   "nbconvert_exporter": "python",
   "pygments_lexer": "ipython3",
   "version": "3.7.2"
  }
 },
 "nbformat": 4,
 "nbformat_minor": 2
}
