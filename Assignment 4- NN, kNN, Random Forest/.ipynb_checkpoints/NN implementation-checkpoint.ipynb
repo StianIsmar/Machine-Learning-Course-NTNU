{
 "cells": [
  {
   "cell_type": "code",
   "execution_count": null,
   "metadata": {},
   "outputs": [],
   "source": [
    "import numpy as np"
   ]
  },
  {
   "cell_type": "code",
   "execution_count": 26,
   "metadata": {},
   "outputs": [
    {
     "name": "stdout",
     "output_type": "stream",
     "text": [
      "[[1.90470914]\n",
      " [4.747457  ]]\n",
      "[[1.90470914]]\n",
      "[[0.87042358]\n",
      " [0.99140086]]\n"
     ]
    },
    {
     "data": {
      "text/plain": [
       "0"
      ]
     },
     "execution_count": 26,
     "metadata": {},
     "output_type": "execute_result"
    }
   ],
   "source": [
    "class nn:\n",
    "    input_nodes = 0\n",
    "    hidden_nodes = 0\n",
    "    output_nodes = 0\n",
    "    \n",
    "    def __init__(self, input_nodes, hidden_nodes, output_nodes):\n",
    "        self.input_nodes = input_nodes # The number of features!\n",
    "        self.hidden_nodes = hidden_nodes\n",
    "        self.output_nodes = output_nodes\n",
    "\n",
    "        self.weights_ih = np.random.rand(self.hidden_nodes, self.input_nodes + 1)\n",
    "        self.weights_ho = np.random.rand(self.output_nodes, self.hidden_nodes + 1)\n",
    "\n",
    "        self.bias_h = np.empty([self.hidden_nodes, 1])\n",
    "        self.bias_o = np.empty([self.output_nodes, 1])\n",
    "        # np.random.randint(low=1, high=100, size=4)\n",
    "\n",
    "\n",
    "    def sigmoid(self,x):\n",
    "        res = 1 / (1 + np.exp(-x))\n",
    "        return res\n",
    "\n",
    "    def feedforward(self, input_sample):\n",
    "        \n",
    "        # Generation the hidde outputs:\n",
    "        hidden = np.matrix(np.dot(self.weights_ih, input_sample)).T\n",
    "        hidden = np.add(hidden,self.bias_h)\n",
    "        print(hidden)\n",
    "        print(hidden[0])\n",
    "        \n",
    "        sig = lambda t: self.sigmoid(t)\n",
    "        # Generate the output using the activation function:\n",
    "        r = sig(hidden)\n",
    "        \n",
    "        \n",
    "        return 0\n",
    "            # return code\n",
    "\n",
    "n1 = nn(2,2,1)\n",
    "n1.feedforward([1,2,3])\n",
    "\n",
    "# Store the weights in a matrix:"
   ]
  },
  {
   "cell_type": "code",
   "execution_count": null,
   "metadata": {},
   "outputs": [],
   "source": []
  }
 ],
 "metadata": {
  "kernelspec": {
   "display_name": "Python 3",
   "language": "python",
   "name": "python3"
  },
  "language_info": {
   "codemirror_mode": {
    "name": "ipython",
    "version": 3
   },
   "file_extension": ".py",
   "mimetype": "text/x-python",
   "name": "python",
   "nbconvert_exporter": "python",
   "pygments_lexer": "ipython3",
   "version": "3.7.2"
  }
 },
 "nbformat": 4,
 "nbformat_minor": 2
}
