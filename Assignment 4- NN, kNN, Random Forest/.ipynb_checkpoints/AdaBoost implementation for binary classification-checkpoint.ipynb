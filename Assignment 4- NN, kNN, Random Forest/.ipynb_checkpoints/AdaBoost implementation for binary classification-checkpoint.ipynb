{
 "cells": [
  {
   "cell_type": "code",
   "execution_count": 42,
   "metadata": {},
   "outputs": [],
   "source": [
    "# https://www.youtube.com/watch?v=LsK-xG1cLYA\n",
    "# https://i.stack.imgur.com/CTpi9.png\n",
    "from sklearn import tree\n",
    "import pandas as pd\n",
    "import numpy as np\n",
    "import math\n",
    "\n",
    "\n"
   ]
  },
  {
   "cell_type": "code",
   "execution_count": 43,
   "metadata": {},
   "outputs": [],
   "source": [
    "df = pd.read_csv(\"./dataset(3)/adaboost_train.csv\")"
   ]
  },
  {
   "cell_type": "code",
   "execution_count": 44,
   "metadata": {},
   "outputs": [],
   "source": [
    "X_train = df.loc[:,'x1':'x10']\n",
    "Y_train = df[['y']]\n"
   ]
  },
  {
   "cell_type": "code",
   "execution_count": 45,
   "metadata": {},
   "outputs": [],
   "source": [
    "# from sklearn import tree\n",
    "# clf = tree.DecisionTreeClassifier(max_depth = 1)\n",
    "# clf = clf.fit(X_train,Y_train)\n",
    "# clf\n",
    "# import graphviz\n",
    "# dot_data = tree.export_graphviz(clf, out_file=None) \n",
    "# graph = graphviz.Source(dot_data) \n",
    "# graph\n",
    "\n",
    "# print(clf.predict([[2., 2.]]))"
   ]
  },
  {
   "cell_type": "code",
   "execution_count": 46,
   "metadata": {},
   "outputs": [],
   "source": [
    "def adaBoost(X_train,Y_train):\n",
    "    classifiers = []\n",
    "    # initializing the weights:\n",
    "    N = len(Y_train)\n",
    "    w_i = [1 / N] * N\n",
    "    T = 2\n",
    "    x_train = (X_train.apply(lambda x: x.tolist(), axis=1))\n",
    "\n",
    "    \n",
    "\n",
    "    # Go for as many iterations as wanted:\n",
    "    for t in range(T):\n",
    "        print(\"Iteration:\", t)\n",
    "        # (a) Fit a classifier Gm(x) to the training data using weights wi.\n",
    "        # The first iteration:\n",
    "        clf = tree.DecisionTreeClassifier(max_depth = 1)\n",
    "        clf = clf.fit(X_train,Y_train, sample_weight = w_i)\n",
    "\n",
    "        # (b) Compute the error (If a point was mistakenly classified with the\n",
    "        error = calc_error(w_i, x_train,Y_train, clf)\n",
    "        print(\"Calced error\")\n",
    "        # (c) Compute alpha = log((1- err)/err)\n",
    "        alpha = math.log10( (1-error)/ error  )\n",
    "        print(\"Calced alpha\")\n",
    "\n",
    "        # Add the fitted classifier, error and alpha for later use for every iteration\n",
    "\n",
    "        classifiers.append((clf, error, alpha))\n",
    "        \n",
    "        # (d) Update the weights. (If a point was wrongly classified,\n",
    "        # we need to INCREASE the weight for that point.\n",
    "        w_i = update_weights(w_i,x_train,Y_train,alpha,clf)\n",
    "        print(\"updated weights\")\n",
    "\n",
    "    # After the iterations, we output G(x) = sign[for 1 to T, mult alpha*Gm(x) ]\n",
    "         # How can the fitted classifier be multiplied by a number???\n",
    "    print (\"DONE\")\n",
    "    \n",
    "    # Creating G(x):\n",
    "    #result = 0\n",
    "    #for c in classifiers:\n",
    "        #result += c[2]* c[0](x)\n",
    "    #res = np.sign(res)\n",
    "    new_classifier = lambda x: sum([c[2] * c[0](x) for c in classifiers])\n",
    "    return (new_classifier)\n",
    "\n",
    "# ************* The problem here is that I can't call np.sign(new_classifier).... \n",
    "    \n",
    "    \n",
    "def calc_error(weights, X_train,Y_train,classifier):\n",
    "    err = 0\n",
    "    print(classifier)\n",
    "    for i in range(len(X_train)):\n",
    "        err += weights[i] * check_pred(classifier, X_train[i], Y_train['y'].iloc[i])\n",
    "        \n",
    "    # Normalizing the error:\n",
    "    err = err/sum(weights)\n",
    "    return err\n",
    "\n",
    "# If the prediction is true, return 0. If it is not true, return 1.\n",
    "def check_pred(cls, x, y):\n",
    "    if ((cls.predict([x]))[0] == y):\n",
    "        return 0\n",
    "    else:\n",
    "        return 1\n",
    "    \n",
    "def update_weights(w,X_train,Y_train,alpha,clf):\n",
    "    for j in range(len(w)):\n",
    "        w[j] = w[j] * np.exp(alpha*check_pred(clf, X_train[j], Y_train['y'].iloc[j]))\n",
    "    return w\n",
    "\n",
    "\n"
   ]
  },
  {
   "cell_type": "code",
   "execution_count": 47,
   "metadata": {
    "scrolled": false
   },
   "outputs": [
    {
     "name": "stdout",
     "output_type": "stream",
     "text": [
      "Iteration: 0\n",
      "DecisionTreeClassifier(class_weight=None, criterion='gini', max_depth=1,\n",
      "            max_features=None, max_leaf_nodes=None,\n",
      "            min_impurity_decrease=0.0, min_impurity_split=None,\n",
      "            min_samples_leaf=1, min_samples_split=2,\n",
      "            min_weight_fraction_leaf=0.0, presort=False, random_state=None,\n",
      "            splitter='best')\n",
      "Calced error\n",
      "Calced alpha\n",
      "updated weights\n",
      "Iteration: 1\n",
      "DecisionTreeClassifier(class_weight=None, criterion='gini', max_depth=1,\n",
      "            max_features=None, max_leaf_nodes=None,\n",
      "            min_impurity_decrease=0.0, min_impurity_split=None,\n",
      "            min_samples_leaf=1, min_samples_split=2,\n",
      "            min_weight_fraction_leaf=0.0, presort=False, random_state=None,\n",
      "            splitter='best')\n",
      "Calced error\n",
      "Calced alpha\n",
      "updated weights\n",
      "DONE\n",
      "THIS IS THE FINAL ANSWER: <function adaBoost.<locals>.<lambda> at 0x122c23bf8>\n"
     ]
    }
   ],
   "source": [
    "c = adaBoost(X_train, Y_train)\n",
    "print(\"THIS IS THE FINAL ANSWER:\", c)\n"
   ]
  },
  {
   "cell_type": "code",
   "execution_count": 32,
   "metadata": {},
   "outputs": [
    {
     "ename": "AttributeError",
     "evalue": "'function' object has no attribute 'predict'",
     "output_type": "error",
     "traceback": [
      "\u001b[0;31m---------------------------------------------------------------------------\u001b[0m",
      "\u001b[0;31mAttributeError\u001b[0m                            Traceback (most recent call last)",
      "\u001b[0;32m<ipython-input-32-6d535e38d3b9>\u001b[0m in \u001b[0;36m<module>\u001b[0;34m\u001b[0m\n\u001b[0;32m----> 1\u001b[0;31m \u001b[0mc\u001b[0m\u001b[0;34m.\u001b[0m\u001b[0mpredict\u001b[0m\u001b[0;34m(\u001b[0m\u001b[0;34m[\u001b[0m\u001b[0;34m[\u001b[0m\u001b[0;36m1\u001b[0m\u001b[0;34m,\u001b[0m\u001b[0;36m2\u001b[0m\u001b[0;34m,\u001b[0m\u001b[0;36m3\u001b[0m\u001b[0;34m,\u001b[0m\u001b[0;36m4\u001b[0m\u001b[0;34m,\u001b[0m\u001b[0;36m1\u001b[0m\u001b[0;34m,\u001b[0m\u001b[0;36m5\u001b[0m\u001b[0;34m,\u001b[0m\u001b[0;36m6\u001b[0m\u001b[0;34m]\u001b[0m\u001b[0;34m]\u001b[0m\u001b[0;34m)\u001b[0m\u001b[0;34m\u001b[0m\u001b[0;34m\u001b[0m\u001b[0m\n\u001b[0m",
      "\u001b[0;31mAttributeError\u001b[0m: 'function' object has no attribute 'predict'"
     ]
    }
   ],
   "source": [
    "c.predict([[1,2,3,4,1,5,6]])"
   ]
  },
  {
   "cell_type": "code",
   "execution_count": null,
   "metadata": {},
   "outputs": [],
   "source": [
    "print(np.exp(1))"
   ]
  },
  {
   "cell_type": "code",
   "execution_count": null,
   "metadata": {},
   "outputs": [],
   "source": [
    "# def update_weights(w,X_train,Y_train,alpha,clf):\n",
    "  #   for j in range(len(w)):\n",
    "  #      w[j] = w[j] * np.exp(alpha*check_pred(classifier, X_train[j], Y_train['y'].iloc[j]))\n",
    "  #   return 1"
   ]
  }
 ],
 "metadata": {
  "kernelspec": {
   "display_name": "Python 3",
   "language": "python",
   "name": "python3"
  },
  "language_info": {
   "codemirror_mode": {
    "name": "ipython",
    "version": 3
   },
   "file_extension": ".py",
   "mimetype": "text/x-python",
   "name": "python",
   "nbconvert_exporter": "python",
   "pygments_lexer": "ipython3",
   "version": "3.7.2"
  }
 },
 "nbformat": 4,
 "nbformat_minor": 2
}
