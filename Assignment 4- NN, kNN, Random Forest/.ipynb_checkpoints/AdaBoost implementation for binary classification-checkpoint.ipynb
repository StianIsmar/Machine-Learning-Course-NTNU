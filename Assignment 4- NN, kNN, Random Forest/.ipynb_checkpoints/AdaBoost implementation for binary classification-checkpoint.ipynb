{
 "cells": [
  {
   "cell_type": "code",
   "execution_count": 38,
   "metadata": {},
   "outputs": [],
   "source": [
    "# https://www.youtube.com/watch?v=LsK-xG1cLYA\n",
    "from sklearn import tree\n",
    "import pandas as pd\n",
    "import numpy as np\n",
    "import math\n",
    "\n",
    "\n"
   ]
  },
  {
   "cell_type": "code",
   "execution_count": 39,
   "metadata": {},
   "outputs": [],
   "source": [
    "df = pd.read_csv(\"./dataset(3)/adaboost_train.csv\")"
   ]
  },
  {
   "cell_type": "code",
   "execution_count": 40,
   "metadata": {},
   "outputs": [],
   "source": [
    "X_train = df.loc[:,'x1':'x7']\n",
    "Y_train = df[['y']]\n"
   ]
  },
  {
   "cell_type": "code",
   "execution_count": 41,
   "metadata": {},
   "outputs": [
    {
     "data": {
      "text/plain": [
       "[-0.11120155928344573,\n",
       " 0.3682868497364108,\n",
       " -0.39002677684863546,\n",
       " -0.7904127854004014,\n",
       " 1.4453232213738656,\n",
       " 1.5658096146715133,\n",
       " -0.06674973131456588]"
      ]
     },
     "execution_count": 41,
     "metadata": {},
     "output_type": "execute_result"
    }
   ],
   "source": [
    "a[9]"
   ]
  },
  {
   "cell_type": "code",
   "execution_count": 42,
   "metadata": {},
   "outputs": [],
   "source": [
    "# from sklearn import tree\n",
    "# clf = tree.DecisionTreeClassifier(max_depth = 1)\n",
    "# clf = clf.fit(X_train,Y_train)\n",
    "# clf\n",
    "# import graphviz\n",
    "# dot_data = tree.export_graphviz(clf, out_file=None) \n",
    "# graph = graphviz.Source(dot_data) \n",
    "# graph\n",
    "\n",
    "# print(clf.predict([[2., 2.]]))"
   ]
  },
  {
   "cell_type": "code",
   "execution_count": 61,
   "metadata": {},
   "outputs": [],
   "source": [
    "def adaBoost(X_train,Y_train):\n",
    "    classifiers = []\n",
    "    # initializing the weights:\n",
    "    N = len(Y_train)\n",
    "    w_i = [1 / N] * N\n",
    "    T = 10\n",
    "    x_train = (X_train.apply(lambda x: x.tolist(), axis=1))\n",
    "    print(x_train)\n",
    "\n",
    "    # Go for as many iterations as wanted:\n",
    "    for t in range(T-1):\n",
    "        # (a) Fit a classifier Gm(x) to the training data using weights wi.\n",
    "        # The first iteration:\n",
    "        clf = tree.DecisionTreeClassifier(max_depth = 1)\n",
    "        clf = clf.fit(X_train,Y_train, sample_weight = w_i)\n",
    "        print(\"OKKKKKKKJ\")\n",
    "\n",
    "        # (b) Compute the error (If a point was mistakenly classified with the\n",
    "        error = calc_error(w_i, x_train,Y_train, clf)\n",
    "        \n",
    "        # (c) Compute alpha = log((1- err)/err)\n",
    "        alpha = math.log10( (1-error)/ error  )\n",
    "        # Add the fitted classifier, error and alpha for later use for every iteration\n",
    "\n",
    "        classifiers.append((clf, error, alpha))\n",
    "        \n",
    "        # (d) Update the weights. (If a point was wrongly classified,\n",
    "        # we need to INCREASE the weight for that point.\n",
    "        # w_i = update_weights(w_i,X_train,Y_train,alpha,clf)\n",
    "        \n",
    "    # After the iterations, we output G(x) = sign[for 1 to T, mult alpha*Gm(x) ]\n",
    "         # How can the fitted classifier be multiplied by a number???\n",
    "    return classifiers\n",
    "    \n",
    "def calc_error(weights, X_train,Y_train,classifier):\n",
    "    err = 0\n",
    "    print(classifier)\n",
    "    for i in range(len(X_train)):\n",
    "        err += weights[i] * check_pred(classifier, X_train[i], Y_train['y'].iloc[i])\n",
    "        \n",
    "    # Normalizing the error:\n",
    "    err = err/sum(weights)\n",
    "    return err\n",
    "\n",
    "# If the prediction is true, return 0. If it is not true, return 1.\n",
    "def check_pred(cls, x, y):\n",
    "    if ((cls.predict([x]))[0] == y):\n",
    "        return 0\n",
    "    else:\n",
    "        return 1\n",
    "    \n",
    "def update_weights(w,X_train,Y_train,alpha,clf):\n",
    "\n",
    "\n",
    "\n",
    "# def update_weights(w,X_train,Y_train,alpha,clf):\n",
    "  #   for j in range(len(w)):\n",
    "  #      w[j] = w[j] * np.exp(alpha*check_pred(classifier, X_train[j], Y_train['y'].iloc[j])\n",
    "  #   return 1\n"
   ]
  },
  {
   "cell_type": "code",
   "execution_count": null,
   "metadata": {
    "scrolled": true
   },
   "outputs": [],
   "source": [
    "c = adaBoost(X_train, Y_train)\n",
    "print(c)\n"
   ]
  },
  {
   "cell_type": "code",
   "execution_count": null,
   "metadata": {},
   "outputs": [],
   "source": [
    "print(a)"
   ]
  },
  {
   "cell_type": "code",
   "execution_count": null,
   "metadata": {},
   "outputs": [],
   "source": [
    "print(np.exp(1))"
   ]
  },
  {
   "cell_type": "code",
   "execution_count": null,
   "metadata": {},
   "outputs": [],
   "source": []
  }
 ],
 "metadata": {
  "kernelspec": {
   "display_name": "Python 3",
   "language": "python",
   "name": "python3"
  },
  "language_info": {
   "codemirror_mode": {
    "name": "ipython",
    "version": 3
   },
   "file_extension": ".py",
   "mimetype": "text/x-python",
   "name": "python",
   "nbconvert_exporter": "python",
   "pygments_lexer": "ipython3",
   "version": "3.7.2"
  }
 },
 "nbformat": 4,
 "nbformat_minor": 2
}
