{
 "cells": [
  {
   "cell_type": "code",
   "execution_count": null,
   "metadata": {},
   "outputs": [],
   "source": [
    "# https://www.youtube.com/watch?v=LsK-xG1cLYA\n",
    "\n",
    "import pandas as pd\n",
    "import numpy as np\n",
    "import math\n",
    "\n",
    "\n"
   ]
  },
  {
   "cell_type": "code",
   "execution_count": null,
   "metadata": {},
   "outputs": [],
   "source": [
    "df = pd.read_csv(\"./dataset(3)/adaboost_train.csv\")"
   ]
  },
  {
   "cell_type": "code",
   "execution_count": null,
   "metadata": {},
   "outputs": [],
   "source": [
    "X_train = df.loc[:,'x1':'x7']\n",
    "Y_train = df[['y']]\n",
    "Y_train['y'].iloc[0]"
   ]
  },
  {
   "cell_type": "code",
   "execution_count": null,
   "metadata": {},
   "outputs": [],
   "source": [
    "# from sklearn import tree\n",
    "# clf = tree.DecisionTreeClassifier(max_depth = 1)\n",
    "# clf = clf.fit(X_train,Y_train)\n",
    "# clf\n",
    "# import graphviz\n",
    "# dot_data = tree.export_graphviz(clf, out_file=None) \n",
    "# graph = graphviz.Source(dot_data) \n",
    "# graph\n",
    "\n",
    "# print(clf.predict([[2., 2.]]))"
   ]
  },
  {
   "cell_type": "code",
   "execution_count": null,
   "metadata": {},
   "outputs": [],
   "source": [
    "def adaBoost(X_train,Y_train):\n",
    "    classifiers = []\n",
    "    # initializing the weights:\n",
    "    N = len(Y_train)\n",
    "    w_i = [1 / N] * N\n",
    "    T = 100\n",
    "    \n",
    "    # Go for as many iterations as wanted:\n",
    "    for t in range(T-1):\n",
    "        # (a) Fit a classifier Gm(x) to the training data using weights wi.\n",
    "        # The first iteration:\n",
    "        clf = tree.DecisionTreeClassifier(max_depth = 1)\n",
    "        clf = clf.fit(X_train,Y_train, sample_weight = w_i)\n",
    "        print(\"OKKKKKKKJ\")\n",
    "        # Add the fitted classifier for later use for every iteration\n",
    "        \n",
    "        # (b) Compute the error (If a point was mistakenly classified with the\n",
    "        error = calc_error(w_i, X_train,Y_train, classifiers[-1])\n",
    "        classifiers.append((clf), error)\n",
    "        \n",
    "        # (c) Compute alpha = log((1- err)/err)\n",
    "        aplpha = \n",
    "        \n",
    "        \n",
    "        # (d) Update the weights. (If a point was wrongly classified,\n",
    "        # we need to INCREASE the weight for that point.\n",
    "        \n",
    "    # After the iterations, we output G(x) = sign[for 1 to T, mult alpha*Gm(x) ]\n",
    "         # How can the fitted classifier be multiplied by a number???\n",
    "    \n",
    "    \n",
    "    \n",
    "\n",
    "def calc_error(weights, X_train,Y_train,classifier):\n",
    "    err = 0\n",
    "    print(classifier)\n",
    "    for i in range(len(X_train)):\n",
    "        err += weights[i] * check_pred(classifier, (X_train.apply(lambda x: x.tolist(), axis=1))[i], Y_train['y'].iloc[i])\n",
    "    # Normalizing the error:\n",
    "    err = err/sum(w_i)\n",
    "\n",
    "# If the prediction is true, return 0. If it is not true, return 1.\n",
    "def check_pred(cls, x, y):\n",
    "    if ((cls.predict([x]))[0] == y):\n",
    "        return 0\n",
    "    else:\n",
    "        return 1\n",
    "\n",
    "adaBoost(X_train, Y_train)"
   ]
  },
  {
   "cell_type": "code",
   "execution_count": null,
   "metadata": {},
   "outputs": [],
   "source": [
    "a = (math.log10(10))"
   ]
  },
  {
   "cell_type": "code",
   "execution_count": null,
   "metadata": {},
   "outputs": [],
   "source": [
    "print(a)"
   ]
  },
  {
   "cell_type": "code",
   "execution_count": null,
   "metadata": {},
   "outputs": [],
   "source": []
  }
 ],
 "metadata": {
  "kernelspec": {
   "display_name": "Python 3",
   "language": "python",
   "name": "python3"
  },
  "language_info": {
   "codemirror_mode": {
    "name": "ipython",
    "version": 3
   },
   "file_extension": ".py",
   "mimetype": "text/x-python",
   "name": "python",
   "nbconvert_exporter": "python",
   "pygments_lexer": "ipython3",
   "version": "3.7.2"
  }
 },
 "nbformat": 4,
 "nbformat_minor": 2
}
