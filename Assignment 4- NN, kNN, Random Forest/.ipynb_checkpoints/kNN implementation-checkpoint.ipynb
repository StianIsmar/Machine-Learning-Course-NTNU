{
 "cells": [
  {
   "cell_type": "markdown",
   "metadata": {},
   "source": [
    "# kNN implementation"
   ]
  },
  {
   "cell_type": "code",
   "execution_count": 66,
   "metadata": {},
   "outputs": [],
   "source": [
    "# Implement k-nearest neightbour. \n",
    "# Reuse the program to implement kNN regression (based on a simple mean) and classification (voting)\n",
    "# https://hlab.stanford.edu/brian/euclidean_distance_in.html\n",
    "# https://www.researchgate.net/figure/Pseudocode-for-KNN-classification_fig7_260397165\n",
    "    \n",
    "\n",
    "import pandas as pd\n",
    "import numpy as np\n",
    "import bisect"
   ]
  },
  {
   "cell_type": "code",
   "execution_count": 67,
   "metadata": {},
   "outputs": [],
   "source": [
    "df = pd.read_csv(\"./dataset(3)/knn_classification.csv\")\n"
   ]
  },
  {
   "cell_type": "code",
   "execution_count": 86,
   "metadata": {},
   "outputs": [],
   "source": [
    "Y = list(df.y)\n",
    "X = df.loc[:,'x1':'x4']"
   ]
  },
  {
   "cell_type": "code",
   "execution_count": 87,
   "metadata": {},
   "outputs": [],
   "source": [
    "# Returns the euclidean distance sum in n-dimentional space:\n",
    "def findDistance(p1,p2):\n",
    "    euclid_dist_sum = 0\n",
    "    for i in range(len(p1)):\n",
    "        euclid_dist_sum += (p1[i] - p2[i])**2\n",
    "    return euclid_dist_sum"
   ]
  },
  {
   "cell_type": "code",
   "execution_count": 88,
   "metadata": {},
   "outputs": [],
   "source": [
    "# kNN implementation, \n",
    "# Xin is the training data, \n",
    "# Yin is the class labels (supervised)\n",
    "# x is the unknown sample \n",
    "def find_K_neighbours(Xin,Yin,x):\n",
    "    k = 10 # from the assignment\n",
    "    # The closes neighbours to the left in asc_neig:\n",
    "    asc_neig = []\n",
    "    for rownum, train_point in Xin.iterrows():\n",
    "        # Calculate the distance to the sample x and insert it into a sorted list:\n",
    "        bisect.insort(asc_neig, (findDistance(train_point, x),Yin[rownum]))\n",
    "    # Slicing the list from element 0 to element k:\n",
    "    return asc_neig[0:k]"
   ]
  },
  {
   "cell_type": "markdown",
   "metadata": {},
   "source": [
    "### Classification problem, solved with voting:"
   ]
  },
  {
   "cell_type": "code",
   "execution_count": 95,
   "metadata": {},
   "outputs": [
    {
     "name": "stdout",
     "output_type": "stream",
     "text": [
      "[(9.999999999999574e-05, 2), (0.03209999999999993, 2), (0.05810000000000002, 2), (0.13009999999999997, 2), (0.1301000000000001, 1), (0.13609999999999978, 2), (0.1660999999999997, 1), (0.17209999999999984, 2), (0.19209999999999988, 2), (0.23610000000000034, 1)]\n",
      "[(0, 0), (0, 0), (0, 0), (0, 0), (0, 0), (0, 0), (0, 0), (0, 0), (0, 0), (0, 0), (0, 0), (0, 0), (0, 0), (0, 0), (0, 0), (0, 0), (0, 0), (0, 0), (0, 0), (0, 0), (0, 0), (0, 0), (0, 0), (0, 0), (0, 0), (0, 0), (0, 0), (0, 0), (0, 0), (0, 0), (0, 0), (0, 0), (0, 0), (0, 0), (0, 0), (0, 0), (0, 0), (0, 0), (0, 0), (0, 0), (0, 0), (0, 0), (0, 0), (0, 0), (0, 0), (0, 0), (0, 0), (0, 0), (0, 0), (0, 0), (1, 0), (1, 0), (1, 0), (1, 0), (1, 0), (1, 0), (1, 0), (1, 0), (1, 0), (1, 0), (1, 0), (1, 0), (1, 0), (1, 0), (1, 0), (1, 0), (1, 0), (1, 0), (1, 0), (1, 0), (1, 0), (1, 0), (1, 0), (1, 0), (1, 0), (1, 0), (1, 0), (1, 0), (1, 0), (1, 0), (1, 0), (1, 0), (1, 0), (1, 0), (1, 0), (1, 0), (1, 0), (1, 0), (1, 0), (1, 0), (1, 0), (1, 0), (1, 0), (1, 0), (1, 0), (1, 0), (1, 0), (1, 0), (1, 0), (1, 0), (2, 0), (2, 0), (2, 0), (2, 0), (2, 0), (2, 0), (2, 0), (2, 0), (2, 0), (2, 0), (2, 0), (2, 0), (2, 0), (2, 0), (2, 0), (2, 0), (2, 0), (2, 0), (2, 0), (2, 0), (2, 0), (2, 0), (2, 0), (2, 0), (2, 0), (2, 0), (2, 0), (2, 0), (2, 0), (2, 0), (2, 0), (2, 0), (2, 0), (2, 0), (2, 0), (2, 0), (2, 0), (2, 0), (2, 0), (2, 0), (2, 0), (2, 0), (2, 0), (2, 0), (2, 0), (2, 0), (2, 0), (2, 0), (2, 0), (2, 0)]\n"
     ]
    }
   ],
   "source": [
    "knn_classification_problem = find_K_neighbours(X,Y,[6.3, 2.7, 4.91, 1.8])\n",
    "print(knn_classification_problem)\n",
    "\n",
    "# Voting:\n",
    "# Making a list with the different target values we have seen in the training data:\n",
    "distinct_vals_Y = []\n",
    "for y in Y:\n",
    "    if (y not in distinct_vals_Y):\n",
    "        # add it:\n",
    "        distinct_vals_Y.append((y,0))\n",
    "\n",
    "def count_votes:\n",
    "    for n in knn_classification_problem:\n",
    "        "
   ]
  },
  {
   "cell_type": "code",
   "execution_count": 62,
   "metadata": {},
   "outputs": [],
   "source": [
    "       "
   ]
  },
  {
   "cell_type": "code",
   "execution_count": null,
   "metadata": {},
   "outputs": [],
   "source": []
  }
 ],
 "metadata": {
  "kernelspec": {
   "display_name": "Python 3",
   "language": "python",
   "name": "python3"
  },
  "language_info": {
   "codemirror_mode": {
    "name": "ipython",
    "version": 3
   },
   "file_extension": ".py",
   "mimetype": "text/x-python",
   "name": "python",
   "nbconvert_exporter": "python",
   "pygments_lexer": "ipython3",
   "version": "3.7.2"
  }
 },
 "nbformat": 4,
 "nbformat_minor": 2
}
