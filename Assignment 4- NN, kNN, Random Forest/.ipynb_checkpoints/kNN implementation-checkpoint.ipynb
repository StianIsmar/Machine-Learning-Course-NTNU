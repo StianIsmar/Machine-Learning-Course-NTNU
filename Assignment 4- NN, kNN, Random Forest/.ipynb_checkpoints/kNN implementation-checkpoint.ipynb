{
 "cells": [
  {
   "cell_type": "markdown",
   "metadata": {},
   "source": [
    "# kNN implementation"
   ]
  },
  {
   "cell_type": "code",
   "execution_count": 24,
   "metadata": {},
   "outputs": [],
   "source": [
    "# Implement k-nearest neightbour. \n",
    "# Reuse the program to implement kNN regression (based on a simple mean) and classification (voting)\n",
    "# https://hlab.stanford.edu/brian/euclidean_distance_in.html\n",
    "# https://www.researchgate.net/figure/Pseudocode-for-KNN-classification_fig7_260397165\n",
    "    \n",
    "\n",
    "import pandas as pd\n",
    "import numpy as np\n",
    "import bisect"
   ]
  },
  {
   "cell_type": "code",
   "execution_count": 25,
   "metadata": {},
   "outputs": [],
   "source": [
    "def load_csv(path):\n",
    "    df1 = pd.read_csv(path)\n",
    "    return df1\n",
    "\n"
   ]
  },
  {
   "cell_type": "code",
   "execution_count": 26,
   "metadata": {},
   "outputs": [],
   "source": [
    "# Returns the euclidean distance sum in n-dimentional space:\n",
    "def findDistance(p1,p2):\n",
    "    euclid_dist_sum = 0\n",
    "    for i in range(len(p1)):\n",
    "        euclid_dist_sum += (p1[i] - p2[i])**2\n",
    "    return euclid_dist_sum"
   ]
  },
  {
   "cell_type": "code",
   "execution_count": 27,
   "metadata": {},
   "outputs": [],
   "source": [
    "# kNN implementation, \n",
    "# Xin is the training data, \n",
    "# Yin is the class labels (supervised)\n",
    "# x is the unknown sample \n",
    "def find_K_neighbours(Xin,Yin,x):\n",
    "    k = 10 # from the assignment\n",
    "    # The closes neighbours to the left in asc_neig:\n",
    "    asc_neig = []\n",
    "    for rownum, train_point in Xin.iterrows():\n",
    "        # Calculate the distance to the sample x and insert it into a sorted list:\n",
    "        bisect.insort(asc_neig, (findDistance(train_point, x),Yin[rownum]))\n",
    "    # Slicing the list from element 0 to element k:\n",
    "    \n",
    "    # Removing the closest one, which is the actual point from the training data:\n",
    "    asc_neig = asc_neig[1:]\n",
    "\n",
    "    return asc_neig[0:(k+1)]"
   ]
  },
  {
   "cell_type": "markdown",
   "metadata": {},
   "source": [
    "### Classification problem, solved with voting: SHOULD I REMOVE THE DATAPOINT X[124] = [.., .., ..., ..]?"
   ]
  },
  {
   "cell_type": "code",
   "execution_count": 28,
   "metadata": {},
   "outputs": [
    {
     "name": "stdout",
     "output_type": "stream",
     "text": [
      "(150, 5)\n",
      "The datapoint is in the class:  2\n",
      "0.032\n",
      "0.058\n",
      "0.13\n",
      "0.13\n",
      "0.136\n",
      "0.166\n",
      "0.172\n",
      "0.192\n",
      "0.236\n",
      "0.254\n",
      "0.268\n",
      "[(0.03209999999999993, 2), (0.05810000000000002, 2), (0.13009999999999997, 2), (0.1301000000000001, 1), (0.13609999999999978, 2), (0.1660999999999997, 1), (0.17209999999999984, 2), (0.19209999999999988, 2), (0.23610000000000034, 1), (0.2541, 2), (0.26810000000000017, 1)]\n"
     ]
    }
   ],
   "source": [
    "df = load_csv(\"./dataset(3)/knn_classification.csv\")\n",
    "print(df.shape)\n",
    "Y_class = list(df.y)\n",
    "X_class = df.loc[:,'x1':'x4']\n",
    "\n",
    "\n",
    "knn_classification_problem = find_K_neighbours(X_class,Y_class,[6.3, 2.7, 4.91, 1.8])\n",
    "\n",
    "# Voting:\n",
    "# Making a list with the different target values we have seen in the training data:\n",
    "distinct_vals_Y = []\n",
    "for y in Y_class:\n",
    "    if y not in distinct_vals_Y:\n",
    "        distinct_vals_Y.append(y)\n",
    "\n",
    "# Count the values\n",
    "def count_votes():\n",
    "    votes = [0 for x in range(len(distinct_vals_Y))]\n",
    "    for i in range(len(votes)):\n",
    "        for n in knn_classification_problem:\n",
    "            if (n[1] == i):\n",
    "                votes[i]+=1\n",
    "    return votes.index(max(votes))\n",
    "classifier_result = count_votes()\n",
    "\n",
    "print(\"The datapoint is in the class: \", classifier_result)\n",
    "for elem in knn_classification_problem:\n",
    "    print(round(elem[0],3))\n",
    "print(knn_classification_problem)"
   ]
  },
  {
   "cell_type": "code",
   "execution_count": null,
   "metadata": {},
   "outputs": [],
   "source": [
    "       "
   ]
  },
  {
   "cell_type": "code",
   "execution_count": null,
   "metadata": {},
   "outputs": [],
   "source": []
  },
  {
   "cell_type": "code",
   "execution_count": null,
   "metadata": {},
   "outputs": [],
   "source": []
  }
 ],
 "metadata": {
  "kernelspec": {
   "display_name": "Python 3",
   "language": "python",
   "name": "python3"
  },
  "language_info": {
   "codemirror_mode": {
    "name": "ipython",
    "version": 3
   },
   "file_extension": ".py",
   "mimetype": "text/x-python",
   "name": "python",
   "nbconvert_exporter": "python",
   "pygments_lexer": "ipython3",
   "version": "3.7.2"
  }
 },
 "nbformat": 4,
 "nbformat_minor": 2
}
