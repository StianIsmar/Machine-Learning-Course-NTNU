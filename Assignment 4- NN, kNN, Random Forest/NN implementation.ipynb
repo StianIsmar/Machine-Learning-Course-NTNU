{
 "cells": [
  {
   "cell_type": "code",
   "execution_count": 24,
   "metadata": {},
   "outputs": [],
   "source": [
    "import numpy as np\n",
    "# https://www.youtube.com/watch?v=QJoa0JYaX1I 16:20"
   ]
  },
  {
   "cell_type": "code",
   "execution_count": 67,
   "metadata": {},
   "outputs": [
    {
     "name": "stdout",
     "output_type": "stream",
     "text": [
      "[[0.37661347 0.06314402]\n",
      " [0.34138444 0.01423211]]\n",
      "self.sigmoid(hidden)\n",
      "[[0.76747497]\n",
      " [0.60452683]]\n",
      "shape (2, 2)\n",
      "output_errors (2, 2)\n",
      " \n",
      "untrained\n",
      "[[0.58108126 0.56724209]\n",
      " [0.58108126 0.56724209]]\n",
      "targets:\n",
      "[1, 0]\n",
      "error\n",
      "[[0.11964567]]\n"
     ]
    }
   ],
   "source": [
    "## Need to generalize it for n layers! it is generalized for n nodes in the 3 layers.\n",
    "class nn:\n",
    "    input_nodes = 0\n",
    "    hidden_nodes = 0\n",
    "    output_nodes = 0\n",
    "    \n",
    "    def __init__(self, input_nodes, hidden_nodes, output_nodes):\n",
    "        self.input_nodes = input_nodes # The number of features!\n",
    "        self.hidden_nodes = hidden_nodes\n",
    "        self.output_nodes = output_nodes\n",
    "\n",
    "        self.weights_ih = np.random.rand(self.hidden_nodes, self.input_nodes)\n",
    "        self.weights_ho = np.random.rand(self.output_nodes, self.hidden_nodes)\n",
    "        print(self.weights_ho)\n",
    "\n",
    "        self.bias_h = np.empty([self.hidden_nodes, 1])\n",
    "        self.bias_o = np.empty([self.output_nodes, 1])\n",
    "\n",
    "    def sigmoid(self,x):\n",
    "        res = 1 / (1 + np.exp(-x))\n",
    "        return res\n",
    "    \n",
    "    def feedforward(self, input_sample):\n",
    "        \n",
    "        # Generating the hidden outputs:\n",
    "        hidden = np.matrix(np.dot(self.weights_ih, input_sample)).T\n",
    "        hidden = np.add(hidden,self.bias_h)\n",
    "        print(\"self.sigmoid(hidden)\")\n",
    "        print(self.sigmoid(hidden))\n",
    "\n",
    "        sig = lambda t: self.sigmoid(t)\n",
    "        \n",
    "        # Generate the output using the activation function:\n",
    "        output_hidden_layer = sig(hidden)\n",
    "        \n",
    "        # Now, generate the output for the output layer!\n",
    "        output = np.matrix(np.dot(self.weights_ho, output_hidden_layer )).T\n",
    "        output = np.add(output,self.bias_o)\n",
    "\n",
    "        sig = lambda t: self.sigmoid(t)\n",
    "        output_output_layer = sig(output)\n",
    "\n",
    "        return output_output_layer\n",
    "\n",
    "    def backprop():\n",
    "        # Implement here ....\n",
    "        print(\" \")\n",
    "    \n",
    "    def train(self, inputs, targets):\n",
    "        outputs = self.feedforward(inputs)\n",
    "        outputs = np.asmatrix(outputs)\n",
    "        output_errors = np.subtract(targets,outputs)\n",
    "        \n",
    "        # Calculate the hidden layer errors:\n",
    "        \n",
    "        print(\"shape\", self.weights_ih.T.shape)\n",
    "        print(\"output_errors\", output_errors.shape)\n",
    "        # hidden_errors = np.dot(self.weights_ih.T,output_errors)\n",
    "        return outputs, targets, output_errors\n",
    "        \n",
    "        \n",
    "n1 = nn(2,2,2)\n",
    "x_train = [1,0]\n",
    "y_train = [1,0]\n",
    "untrained, targets, output_errors = n1.train(x_train,y_train)\n",
    "\n",
    "print(\" \")\n",
    "print(\"untrained\")\n",
    "print(untrained)\n",
    "print(\"targets:\")\n",
    "print(targets)\n",
    "print(\"error\")\n",
    "print(error)\n",
    "\n",
    "# Store the weights in a matrix:"
   ]
  },
  {
   "cell_type": "code",
   "execution_count": null,
   "metadata": {},
   "outputs": [],
   "source": []
  },
  {
   "cell_type": "code",
   "execution_count": null,
   "metadata": {},
   "outputs": [],
   "source": []
  }
 ],
 "metadata": {
  "kernelspec": {
   "display_name": "Python 3",
   "language": "python",
   "name": "python3"
  },
  "language_info": {
   "codemirror_mode": {
    "name": "ipython",
    "version": 3
   },
   "file_extension": ".py",
   "mimetype": "text/x-python",
   "name": "python",
   "nbconvert_exporter": "python",
   "pygments_lexer": "ipython3",
   "version": "3.7.2"
  }
 },
 "nbformat": 4,
 "nbformat_minor": 2
}
