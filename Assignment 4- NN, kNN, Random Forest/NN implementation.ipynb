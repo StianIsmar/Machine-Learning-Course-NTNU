{
 "cells": [
  {
   "cell_type": "code",
   "execution_count": 35,
   "metadata": {},
   "outputs": [],
   "source": [
    "import numpy as np\n",
    "import pandas as pd\n",
    "# https://www.youtube.com/watch?v=QJoa0JYaX1I 16:20"
   ]
  },
  {
   "cell_type": "code",
   "execution_count": 54,
   "metadata": {},
   "outputs": [
    {
     "name": "stdout",
     "output_type": "stream",
     "text": [
      "   0  0.1  0.2\n",
      "0  1    1    0\n",
      "1  0    1    1\n",
      "2  1    0    1\n",
      "3  0    0    0\n",
      " \n"
     ]
    }
   ],
   "source": [
    "df = pd.read_csv(\"xOR_problem.csv\").loc[:,'0':'0.2']\n",
    "X_train = df.loc[:,'0':'0.1']\n",
    "Y_train = df.loc[:,'0.2']\n",
    "print(df)\n",
    "print(\" \")\n"
   ]
  },
  {
   "cell_type": "code",
   "execution_count": 182,
   "metadata": {
    "scrolled": true
   },
   "outputs": [
    {
     "name": "stdout",
     "output_type": "stream",
     "text": [
      "[1, 1] [0]\n",
      "n1.weights_ih\n",
      "[[0.86793337 0.14236718]\n",
      " [0.20625149 0.34055009]]\n",
      " \n",
      "[0, 1] [1]\n",
      "n1.weights_ih\n",
      "[[0.86793337 0.15569544]\n",
      " [0.20625149 0.34315054]]\n",
      " \n",
      "[1, 0] [1]\n",
      "n1.weights_ih\n",
      "[[0.87926786 0.15569544]\n",
      " [0.20851642 0.34315054]]\n",
      " \n",
      "[0, 0] [0]\n",
      "n1.weights_ih\n",
      "[[0.87926786 0.15569544]\n",
      " [0.20851642 0.34315054]]\n",
      " \n"
     ]
    }
   ],
   "source": [
    "## Need to generalize it for n layers! it is generalized for n nodes in the 3 layers.\n",
    "class nn:\n",
    "    input_nodes = 0\n",
    "    hidden_nodes = 0\n",
    "    output_nodes = 0\n",
    "    \n",
    "    def __init__(self, input_nodes, hidden_nodes, output_nodes):\n",
    "        self.input_nodes = input_nodes # The number of features!\n",
    "        self.hidden_nodes = hidden_nodes\n",
    "        self.output_nodes = output_nodes\n",
    "\n",
    "        self.weights_ih = np.random.rand(self.hidden_nodes, self.input_nodes)\n",
    "        self.weights_ho = np.random.rand(self.output_nodes, self.hidden_nodes)\n",
    "        self.bias_h = np.empty([self.hidden_nodes, 1])\n",
    "        self.bias_o = np.empty([self.output_nodes, 1])\n",
    "        self.learning_rate = 0.1\n",
    "\n",
    "    def sigmoid(self,x):\n",
    "        res = 1 / (1 + np.exp(-x))\n",
    "        return res\n",
    "    \n",
    "    def feedforward(self, input_sample):\n",
    "        # Generating the hidden outputs:\n",
    "        hidden = np.matrix(np.dot(self.weights_ih, input_sample)).T\n",
    "        hidden = np.add(hidden,self.bias_h)\n",
    "        sig = lambda t: self.sigmoid(t)\n",
    "        hidden = sig(hidden)\n",
    "        \n",
    "        # Now, generate the output for the output layer:\n",
    "        outputs = np.matrix(np.dot(self.weights_ho, hidden ))\n",
    "        outputs = np.add(outputs,self.bias_o)\n",
    "        sig = lambda t: self.sigmoid(t)\n",
    "        outputs = sig(outputs)\n",
    "        output_outputs = np.asmatrix(outputs)\n",
    "\n",
    "        return hidden, output_outputs\n",
    "    \n",
    "    def train(self, input_sample, targets):\n",
    "        targets = np.asmatrix(targets).T\n",
    "        \n",
    "        hidden, outputs =  self.feedforward(input_sample)\n",
    "    \n",
    "        # Calculate the errors from the output layer:\n",
    "        # ERROR = Targets - ypred\n",
    "        output_errors = np.subtract(targets,outputs)\n",
    "    \n",
    "        # Calculate gradient\n",
    "        # gradient = outputs*(1 - outputs)\n",
    "        desig = lambda t: self.desigmoid(t)\n",
    "        gradients = desig(np.asmatrix(outputs))\n",
    "        gradients = np.multiply(gradients, output_errors)\n",
    "        gradients = np.multiply(gradients, self.learning_rate)\n",
    "        \n",
    "        # Calculate deltas\n",
    "        hidden_T = hidden.T\n",
    "        weight_deltas_ho = np.dot(gradients, hidden_T)\n",
    "        \n",
    "        # Adjust the weights by the deltas\n",
    "        self.weights_ho = np.add(self.weights_ho,weight_deltas_ho)\n",
    " \n",
    "        # Adjust the bias by it's deltas:\n",
    "        self.bias_h = np.add(self.bias_o, gradients)        \n",
    " \n",
    "        # Calculate the error from the hidden node:\n",
    "        hidden_errors = np.dot(self.weights_ho.T,output_errors)\n",
    "        \n",
    "        # Calculate the gradient for the hidden layer:\n",
    "        hidden_gradient = desig(np.asmatrix(hidden))\n",
    "        hidden_gradient = np.multiply(hidden_gradient, hidden_errors)\n",
    "        hidden_gradient = np.multiply(hidden_gradient, self.learning_rate)\n",
    "        \n",
    "        # Calculate change of weight for input -> hidden (deltas):\n",
    "        input_sample_T = np.matrix(input_sample)\n",
    "        weight_ih_deltas = np.dot(hidden_gradient, input_sample_T)\n",
    "        \n",
    "        # Update the input -> Hidden weights:\n",
    "        self.weights_ih = np.add(self.weights_ih, weight_ih_deltas)\n",
    "        \n",
    "        # Adjust the bias by it's deltas:\n",
    "        self.bias_h = np.add(self.bias_h, hidden_gradient)\n",
    "        \n",
    "\n",
    "        \n",
    "    def desigmoid(self, y):\n",
    "        res = y.T*(1-y)\n",
    "        return res\n",
    "    \n",
    "# ********* Main ***********\n",
    "# The number of nodes in the neural net:\n",
    "n1 = nn(2,2,1)\n",
    "\n",
    "x_points=[]\n",
    "for row in df.iterrows():\n",
    "    index, data = row\n",
    "    data = data.tolist()\n",
    "    y_train = [data.pop(2)]\n",
    "    x_train = data\n",
    "    n1.train(x_train, y_train)\n",
    "\n",
    "\n"
   ]
  },
  {
   "cell_type": "code",
   "execution_count": 183,
   "metadata": {},
   "outputs": [
    {
     "name": "stdout",
     "output_type": "stream",
     "text": [
      "[[0.65357134]]\n",
      "[[0.61932516]]\n",
      "[[0.64597376]]\n",
      "[[0.61007728]]\n"
     ]
    }
   ],
   "source": [
    "h, o = n1.feedforward([1,1])\n",
    "print(o)\n",
    "\n",
    "h, o = n1.feedforward([0,1])\n",
    "print(o) \n",
    "\n",
    "h, o = n1.feedforward([1,0])\n",
    "print(o) \n",
    "\n",
    "h, o = n1.feedforward([0,0])\n",
    "print(o) "
   ]
  },
  {
   "cell_type": "code",
   "execution_count": null,
   "metadata": {},
   "outputs": [],
   "source": []
  },
  {
   "cell_type": "code",
   "execution_count": null,
   "metadata": {},
   "outputs": [],
   "source": []
  },
  {
   "cell_type": "code",
   "execution_count": null,
   "metadata": {},
   "outputs": [],
   "source": []
  }
 ],
 "metadata": {
  "kernelspec": {
   "display_name": "Python 3",
   "language": "python",
   "name": "python3"
  },
  "language_info": {
   "codemirror_mode": {
    "name": "ipython",
    "version": 3
   },
   "file_extension": ".py",
   "mimetype": "text/x-python",
   "name": "python",
   "nbconvert_exporter": "python",
   "pygments_lexer": "ipython3",
   "version": "3.7.2"
  }
 },
 "nbformat": 4,
 "nbformat_minor": 2
}
