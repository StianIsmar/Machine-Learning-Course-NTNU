{
 "cells": [
  {
   "cell_type": "code",
   "execution_count": 39,
   "metadata": {},
   "outputs": [],
   "source": [
    "import numpy as np\n",
    "# https://www.youtube.com/watch?v=QJoa0JYaX1I 16:20"
   ]
  },
  {
   "cell_type": "code",
   "execution_count": 45,
   "metadata": {},
   "outputs": [
    {
     "name": "stdout",
     "output_type": "stream",
     "text": [
      "[[0.72819279 0.19025996]]\n",
      "[[0.72819279]\n",
      " [0.19025996]]\n",
      "[[0.75670386]\n",
      " [0.62667879]]\n",
      "FeedForward, untrained: [[0.7027689]]\n"
     ]
    }
   ],
   "source": [
    "## Need to generalize it for n layers! it is generalized for n nodes in the 3 layers.\n",
    "class nn:\n",
    "    input_nodes = 0\n",
    "    hidden_nodes = 0\n",
    "    output_nodes = 0\n",
    "    \n",
    "    def __init__(self, input_nodes, hidden_nodes, output_nodes):\n",
    "        self.input_nodes = input_nodes # The number of features!\n",
    "        self.hidden_nodes = hidden_nodes\n",
    "        self.output_nodes = output_nodes\n",
    "\n",
    "        self.weights_ih = np.random.rand(self.hidden_nodes, self.input_nodes)\n",
    "        self.weights_ho = np.random.rand(self.output_nodes, self.hidden_nodes)\n",
    "        print(self.weights_ho)\n",
    "\n",
    "        self.bias_h = np.empty([self.hidden_nodes, 1])\n",
    "        self.bias_o = np.empty([self.output_nodes, 1])\n",
    "\n",
    "    def sigmoid(self,x):\n",
    "        res = 1 / (1 + np.exp(-x))\n",
    "        return res\n",
    "    \n",
    "    def feedforward(self, input_sample):\n",
    "        \n",
    "        # Generation the hidde outputs:\n",
    "        hidden = np.matrix(np.dot(self.weights_ih, input_sample)).T\n",
    "        hidden = np.add(hidden,self.bias_h)\n",
    "        print(self.bias_h)\n",
    "\n",
    "        sig = lambda t: self.sigmoid(t)\n",
    "        # Generate the output using the activation function:\n",
    "        output_hidden_layer = sig(hidden)\n",
    "        print(output_hidden_layer)\n",
    "        \n",
    "        \n",
    "        # Now, generate the output for the output layer!\n",
    "        output = np.matrix(np.dot(self.weights_ho, output_hidden_layer )).T\n",
    "        output = np.add(output,self.bias_o)\n",
    "\n",
    "        sig = lambda t: self.sigmoid(t)\n",
    "        output_output_layer = sig(output)\n",
    "        \n",
    "    \n",
    "        return output_output_layer\n",
    "\n",
    "    def backprop():\n",
    "        # Implement here ....\n",
    "        print(\" \")\n",
    "    \n",
    "    def train(X_train, y_train):\n",
    "        print(\" \")\n",
    "        \n",
    "        \n",
    "n1 = nn(2,2,1)\n",
    "untrained = n1.feedforward([1,0])\n",
    "print(\"FeedForward, untrained:\", untrained)\n",
    "\n",
    "# Store the weights in a matrix:"
   ]
  },
  {
   "cell_type": "code",
   "execution_count": null,
   "metadata": {},
   "outputs": [],
   "source": []
  },
  {
   "cell_type": "code",
   "execution_count": null,
   "metadata": {},
   "outputs": [],
   "source": []
  }
 ],
 "metadata": {
  "kernelspec": {
   "display_name": "Python 3",
   "language": "python",
   "name": "python3"
  },
  "language_info": {
   "codemirror_mode": {
    "name": "ipython",
    "version": 3
   },
   "file_extension": ".py",
   "mimetype": "text/x-python",
   "name": "python",
   "nbconvert_exporter": "python",
   "pygments_lexer": "ipython3",
   "version": "3.7.2"
  }
 },
 "nbformat": 4,
 "nbformat_minor": 2
}
