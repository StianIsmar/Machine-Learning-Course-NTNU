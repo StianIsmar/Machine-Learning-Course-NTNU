{
 "cells": [
  {
   "cell_type": "code",
   "execution_count": 1,
   "metadata": {},
   "outputs": [],
   "source": [
    "%matplotlib inline\n",
    "import matplotlib.pyplot as plt\n",
    "import numpy as np\n",
    "\n",
    "\n",
    "\n",
    "data = np.loadtxt('train_2d_reg_data.csv', delimiter=',', skiprows=1, unpack=False)\n",
    "xarray = data[...,0] # Need to get this on a matrix-form!\n",
    "numOfColumns = data.shape[1]\n",
    "Y = data[...,(numOfColumns-1)]\n",
    "\n",
    "\n"
   ]
  },
  {
   "cell_type": "code",
   "execution_count": 2,
   "metadata": {},
   "outputs": [],
   "source": [
    "# Need X on the form 1,x1. We only have one feature for this task.\n",
    "X = np.ones((len(xarray), (data.shape[1])))\n",
    "place = 0\n",
    "if data.shape[1] == 2:\n",
    "    for obs in xarray:\n",
    "        # Put one obs in each place in X\n",
    "        X[place,1] = obs\n",
    "        place+=1\n",
    "if data.shape[1] == 3:\n",
    "    place = 0\n",
    "    for obs in data:\n",
    "        # Put one obs in each place in X\n",
    "        X[place,1]= obs[1]\n",
    "        X[place,2] = obs[2]\n",
    "        place+=1  \n"
   ]
  },
  {
   "cell_type": "code",
   "execution_count": 3,
   "metadata": {
    "scrolled": true
   },
   "outputs": [
    {
     "name": "stdout",
     "output_type": "stream",
     "text": [
      "[[4.88498131e-15 1.95399252e-14 1.00000000e+00]]\n"
     ]
    }
   ],
   "source": [
    "# Calculating the weights:\n",
    "Xtrans = np.transpose(X)\n",
    "\n",
    "XtransDotX = np.dot(Xtrans, X)\n",
    "# inverse of this result:\n",
    "matrix1 = np.matrix(XtransDotX)\n",
    "# Inverse it\n",
    "matrix1 = matrix1.I\n",
    "\n",
    "# Xtrans dotted with Y:\n",
    "XtransDotY = np.dot(Xtrans, Y)\n",
    "\n",
    "# Finally, to get w:\n",
    "w = np.dot(matrix1, XtransDotY)\n",
    "print(w)\n",
    "\n"
   ]
  },
  {
   "cell_type": "code",
   "execution_count": null,
   "metadata": {},
   "outputs": [],
   "source": [
    "# plotting the given data:\n",
    "\n",
    "plt.style.use('seaborn-whitegrid')\n",
    "\n",
    "# Plotting function for model:\n",
    "def f(x):\n",
    " return (w[0,0] + w[0,1]*x)\n",
    "modelPoints = f(xarray)\n",
    "\n",
    "fig=plt.figure(figsize=(12, 8), dpi= 80, facecolor='w', edgecolor='k')\n",
    "\n",
    "font = {\n",
    "        'weight' : 'bold',\n",
    "        'size'   : 8}\n",
    "\n",
    "plt.xlabel('x')\n",
    "plt.ylabel('y')\n",
    "\n",
    "plt.title('Figure 1: Linear regression with one feature', size = 24)\n",
    "plt.scatter(xarray, Y, marker='.',color='#117733')\n",
    "plt.plot(xarray, modelPoints, color = \"#882255\")\n",
    "\n",
    "plt.show()"
   ]
  },
  {
   "cell_type": "markdown",
   "metadata": {},
   "source": [
    "# Results\n",
    "The final hypothesis seems to be fitting the scatter plot well."
   ]
  },
  {
   "cell_type": "code",
   "execution_count": 7,
   "metadata": {},
   "outputs": [
    {
     "name": "stdout",
     "output_type": "stream",
     "text": [
      "22.088576098461303\n"
     ]
    }
   ],
   "source": [
    "# Calc error for training-data 2D:\n",
    "def calculateError(weights, X, Y):\n",
    "\n",
    "    # Need to transpose the weights so that X can be multiplied with X.\n",
    "    # X needs is a 325x3 matrix, whilst weights is a 3x1 matrix after it is transposed!\n",
    "    weights = weights.T\n",
    "    Xw = np.dot(X,weights)\n",
    "\n",
    "    # Continue with the linear algebra to calculate the error:\n",
    "    error = (1/len(Y)) * (np.linalg.norm(np.subtract(Xw,Y)))**2\n",
    "    return error\n",
    "errorForTrainingData2D = calculateError(w,X,Y)\n"
   ]
  },
  {
   "cell_type": "code",
   "execution_count": null,
   "metadata": {},
   "outputs": [],
   "source": []
  },
  {
   "cell_type": "code",
   "execution_count": null,
   "metadata": {},
   "outputs": [],
   "source": []
  },
  {
   "cell_type": "code",
   "execution_count": null,
   "metadata": {},
   "outputs": [],
   "source": []
  },
  {
   "cell_type": "code",
   "execution_count": null,
   "metadata": {},
   "outputs": [],
   "source": []
  },
  {
   "cell_type": "code",
   "execution_count": null,
   "metadata": {},
   "outputs": [],
   "source": []
  },
  {
   "cell_type": "code",
   "execution_count": null,
   "metadata": {},
   "outputs": [],
   "source": []
  },
  {
   "cell_type": "code",
   "execution_count": null,
   "metadata": {},
   "outputs": [],
   "source": []
  },
  {
   "cell_type": "code",
   "execution_count": null,
   "metadata": {},
   "outputs": [],
   "source": []
  },
  {
   "cell_type": "code",
   "execution_count": null,
   "metadata": {},
   "outputs": [],
   "source": []
  },
  {
   "cell_type": "code",
   "execution_count": null,
   "metadata": {},
   "outputs": [],
   "source": []
  },
  {
   "cell_type": "code",
   "execution_count": null,
   "metadata": {},
   "outputs": [],
   "source": []
  },
  {
   "cell_type": "code",
   "execution_count": null,
   "metadata": {},
   "outputs": [],
   "source": []
  },
  {
   "cell_type": "code",
   "execution_count": null,
   "metadata": {},
   "outputs": [],
   "source": []
  }
 ],
 "metadata": {
  "kernelspec": {
   "display_name": "Python 3",
   "language": "python",
   "name": "python3"
  },
  "language_info": {
   "codemirror_mode": {
    "name": "ipython",
    "version": 3
   },
   "file_extension": ".py",
   "mimetype": "text/x-python",
   "name": "python",
   "nbconvert_exporter": "python",
   "pygments_lexer": "ipython3",
   "version": "3.7.2"
  }
 },
 "nbformat": 4,
 "nbformat_minor": 2
}
